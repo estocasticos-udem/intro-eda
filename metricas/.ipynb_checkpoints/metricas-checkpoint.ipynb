{
 "cells": [
  {
   "cell_type": "code",
   "execution_count": 18,
   "id": "249f72a0",
   "metadata": {},
   "outputs": [],
   "source": [
    "import numpy as np\n",
    "import pandas as pd\n",
    "from scipy.stats import trim_mean"
   ]
  },
  {
   "cell_type": "markdown",
   "id": "49570ada",
   "metadata": {},
   "source": [
    "# Medidas\n",
    "\n",
    "## Estimación de localización\n",
    "\n",
    "Un análisis de datos más formal a menudo requiere el cálculo e interpretación de medidas resumidas numéricas. Es decir, de los datos se trata de extraer varios números resumidos, números que podrían servir para caracterizar el conjunto de datos y comunicar algunas de sus características prominentes.\n",
    "\n",
    "Supongase que se tiene un conjunto de datos de la forma: $x_1, x_2,...,x_n$ donde cada $x_i$ es un dato numerico. ¿Qué características del conjunto de números son de mayor interés y merecen énfasis? Una importante característica de un conjunto de números es su ubicación y en particular su centro. A continuación, se presentan algunos métodos para describir la ubicación\n",
    "de un conjunto de datos.\n",
    "\n",
    "|Libreria|Link|\n",
    "|---|---|\n",
    "|NumPy|[https://numpy.org/doc/stable/reference/routines.statistics.html](https://numpy.org/doc/stable/reference/routines.statistics.html)|\n",
    "|Pandas|[https://www.tutorialspoint.com/python_pandas/python_pandas_descriptive_statistics.htm](https://www.tutorialspoint.com/python_pandas/python_pandas_descriptive_statistics.htm)|\n",
    "|scipy.stats|[https://docs.scipy.org/doc/scipy/tutorial/stats.html](https://docs.scipy.org/doc/scipy/tutorial/stats.html)|"
   ]
  },
  {
   "cell_type": "markdown",
   "id": "ffe24eac",
   "metadata": {},
   "source": [
    "### Media\n",
    "\n",
    "Para un conjunto dado de números $x_1, x_2,...,x_n$, la medida más conocida y útil del centro es la media o promedio aritmético del conjunto. La **media muestral** de las observaciones $x_1, x_2,...,x_n$ está dada por \\bar{x}:\n",
    "\n",
    "$$\\bar{x}=\\frac{x_1 + x_2 + ... + x_n}{n}=\\frac{\\sum_{i=1}^{n}x_i}{n}$$\n"
   ]
  },
  {
   "cell_type": "markdown",
   "id": "8ce64940",
   "metadata": {},
   "source": [
    "#### Ejemplo \n",
    "Asuma que la altura (en cm) de los estudiantes de una clase es como sigue: [90,102,110,115,85,90,100,110,110]. ¿Cual es el promedio de alturas?"
   ]
  },
  {
   "cell_type": "code",
   "execution_count": 13,
   "id": "16ac14c4",
   "metadata": {},
   "outputs": [
    {
     "name": "stdout",
     "output_type": "stream",
     "text": [
      "heights: [ 90 102 110 115  85  90 100 110 110]\n",
      "Altura promedio: 101.33\n"
     ]
    }
   ],
   "source": [
    "# Solucion numpy\n",
    "heights =  np.array([90,102,110,115,85,90,100,110,110])\n",
    "print(\"heights:\",heights)\n",
    "mean_height = np.mean(heights)\n",
    "print(\"Altura promedio: {0:.2f}\".format(mean_height))"
   ]
  },
  {
   "cell_type": "code",
   "execution_count": 12,
   "id": "d80e34b2",
   "metadata": {},
   "outputs": [
    {
     "name": "stdout",
     "output_type": "stream",
     "text": [
      "   heights\n",
      "0       90\n",
      "1      102\n",
      "2      110\n",
      "3      115\n",
      "4       85\n",
      "5       90\n",
      "6      100\n",
      "7      110\n",
      "8      110\n",
      "Altura promedio: 101.33\n"
     ]
    }
   ],
   "source": [
    "# Solucion pandas\n",
    "data_heights = {'heights':pd.Series([90,102,110,115,85,90,100,110,110])}\n",
    "df_heights= pd.DataFrame(data_heights)\n",
    "print(df_heights)\n",
    "mean_height = df_heights.mean()\n",
    "print(\"Altura promedio: {0:.2f}\".format(mean_height[0]))"
   ]
  },
  {
   "cell_type": "markdown",
   "id": "66e95187",
   "metadata": {},
   "source": [
    "### Media truncada\n",
    "\n",
    "Es una variación de la media que se calcula ignorando un numero fijo, en cada extremo, de valores ordenados y calculando a continuación, para los valores restantes la media.\n",
    "\n",
    "Si se representan los valores ordenados por $x_{(1)}, x_{(2)},...,x_{(n)}$, donde $x_{(1)}$ es el valor mas pequeño y $x_{(p)}$ es el valor mas grande, la formula para calcular la media truncada con los $p$ valores mas pequeños y mas grandes esta dada por:\n",
    "\n",
    "$$media\\:truncada=\\frac{\\sum_{i=p+1}^{n-p}x_{(i)}}{n-2p}$$"
   ]
  },
  {
   "cell_type": "markdown",
   "id": "f7c24a5b",
   "metadata": {},
   "source": [
    "### Ejemplo\n",
    "\n",
    "Dado los los siguientes datos:\n",
    "\n",
    "```\n",
    "[22, 25, 29, 11, 14, 18, 13, 13, 17, 11, 8, 8, 7, 12, 15, 6, 8, 7, 9, 12]\n",
    "```\n",
    "\n",
    "Calcule la media recortando un 10% de los datos."
   ]
  },
  {
   "cell_type": "code",
   "execution_count": 22,
   "id": "153979fe",
   "metadata": {},
   "outputs": [
    {
     "name": "stdout",
     "output_type": "stream",
     "text": [
      "Media 10% truncada: 12.375\n"
     ]
    }
   ],
   "source": [
    "# Se uso la funcion trim_mean de scipy.stats\n",
    "\n",
    "data = [22, 25, 29, 11, 14, 18, 13, 13, 17, 11, 8, 8, 7, 12, 15, 6, 8, 7, 9, 12]\n",
    "\n",
    "#calculate 10% trimmed mean\n",
    "print(\"Media 10% truncada: \",trim_mean(data, 0.1), sep = \"\")"
   ]
  },
  {
   "cell_type": "markdown",
   "id": "4bb31d32",
   "metadata": {},
   "source": [
    "### Mediana\n",
    "\n",
    "La palabra **mediana** es sinónimo de **medio** y la **mediana muestral** es en realidad el valor medio una vez que se ordenan las observaciones de la más pequeña a la más grande.\n",
    "\n",
    "La **media muestral** se obtiene ordenando primero las $n$ observaciones de la más pequeña a la más grande (con cualesquiera valores repetidos incluidos de modo que cada observación muestral aparezca en la lista ordenada). Entonces,\n",
    "\n",
    "$$m=\\begin{cases}\n",
    " & x_{\\frac{n+1}{2}}\\text{ if } x\\:es\\:impar\\\\ \n",
    " & \\frac{x_{\\frac{n}{2}} + x_{\\frac{n}{2}+1}}{2} \\text{ if } x\\:es\\:par \n",
    "\\end{cases}$$"
   ]
  },
  {
   "cell_type": "markdown",
   "id": "d024c53a",
   "metadata": {},
   "source": [
    "#### Ejemplo\n",
    "Asuma que la altura (en cm) de los estudiantes de una clase es como sigue: [90,102,110,115,85,90,100,110,110]. ¿Cual es la media de alturas?"
   ]
  },
  {
   "cell_type": "code",
   "execution_count": 23,
   "id": "d832c679",
   "metadata": {},
   "outputs": [
    {
     "name": "stdout",
     "output_type": "stream",
     "text": [
      "heights: [ 90 102 110 115  85  90 100 110 110]\n",
      "heights ordenadas: [ 85  90  90 100 102 110 110 110 115]\n",
      "Mediana: 102.00\n"
     ]
    }
   ],
   "source": [
    "# Solucion numpy\n",
    "heights =  np.array([90,102,110,115,85,90,100,110,110])\n",
    "print(\"heights:\",heights)\n",
    "print(\"heights ordenadas:\",np.sort(heights))\n",
    "\n",
    "median_height = np.median(heights)\n",
    "print(\"Mediana: {0:.2f}\".format(median_height))"
   ]
  },
  {
   "cell_type": "code",
   "execution_count": 24,
   "id": "d22645d7",
   "metadata": {},
   "outputs": [
    {
     "name": "stdout",
     "output_type": "stream",
     "text": [
      "   heights\n",
      "0       90\n",
      "1      102\n",
      "2      110\n",
      "3      115\n",
      "4       85\n",
      "5       90\n",
      "6      100\n",
      "7      110\n",
      "8      110\n",
      "Altura promedio: 102.00\n"
     ]
    }
   ],
   "source": [
    "# Solucion pandas\n",
    "data_heights = {'heights':pd.Series([90,102,110,115,85,90,100,110,110])}\n",
    "df_heights= pd.DataFrame(data_heights)\n",
    "print(df_heights)\n",
    "median_height = df_heights.median()\n",
    "print(\"Altura promedio: {0:.2f}\".format(median_height[0]))"
   ]
  },
  {
   "cell_type": "markdown",
   "id": "3001e1be",
   "metadata": {},
   "source": [
    "## Percentil\n",
    "Valor tal que el $P$% de los valores toma este valor o un valor inferior y para el $(100 - P)$% el porcentaje toma este valor o un valor superior."
   ]
  },
  {
   "cell_type": "markdown",
   "id": "05a689ba",
   "metadata": {},
   "source": [
    "## Medidas de dispersión\n",
    "\n",
    "El reporte de una medida de centro da sólo información parcial sobre un conjunto o distribución de datos. Diferentes muestras o poblaciones pueden tener medidas idénticas de centro y aún diferir una de otra en otras importantes maneras, una de las cuales tiene que ver en la forma como se distribuyen los datos. Las medidas principales de variabilidad (dispersión) implican las **desviaciones de la media**."
   ]
  },
  {
   "cell_type": "markdown",
   "id": "f3f8e35e",
   "metadata": {},
   "source": [
    "### Rango\n",
    "Es la diferencia entre los valores mayor y menor de un conjunto de datos. \n",
    "\n",
    "Supongase que se representan los valores ordenados por $x_{(1)}, x_{(2)},...,x_{(n)}$, donde $x_{(1)}$ es el valor mas pequeño y $x_{(n)}$ es el valor mas grande, la formula para calcular el rango esta dada por:\n",
    "\n",
    "$$rango=x_{(n)} - x_{(1)}$$\n"
   ]
  },
  {
   "cell_type": "markdown",
   "id": "702027e0",
   "metadata": {},
   "source": [
    "#### Ejemplo \n",
    "Asuma que la altura (en cm) de los estudiantes de una clase es como sigue: [90,102,110,115,85,90,100,110,110]. ¿Cual es el rango de las alturas?"
   ]
  },
  {
   "cell_type": "code",
   "execution_count": 50,
   "id": "7ee3f0ae",
   "metadata": {},
   "outputs": [
    {
     "name": "stdout",
     "output_type": "stream",
     "text": [
      "heights: [ 90 102 110 115  85  90 100 110 110]\n",
      "Rango [85,115]: 30\n"
     ]
    }
   ],
   "source": [
    "# Solucion numpy\n",
    "heights =  np.array([90,102,110,115,85,90,100,110,110])\n",
    "print(\"heights:\",heights)\n",
    "min_height = np.min(heights)\n",
    "max_height = np.max(heights)\n",
    "range_height = max_height - min_height\n",
    "print(\"Rango [{0:d},{1:d}]: {2:d}\".format(min_height, max_height, range_height))"
   ]
  },
  {
   "cell_type": "code",
   "execution_count": 29,
   "id": "dfdb9a8e",
   "metadata": {},
   "outputs": [
    {
     "name": "stdout",
     "output_type": "stream",
     "text": [
      "   heights\n",
      "0       90\n",
      "1      102\n",
      "2      110\n",
      "3      115\n",
      "4       85\n",
      "5       90\n",
      "6      100\n",
      "7      110\n",
      "8      110\n",
      "Rango [85,115]: 30\n"
     ]
    }
   ],
   "source": [
    "# Solucion pandas\n",
    "data_heights = {'heights':pd.Series([90,102,110,115,85,90,100,110,110])}\n",
    "df_heights= pd.DataFrame(data_heights)\n",
    "print(df_heights)\n",
    "min_height = df_heights.min()\n",
    "max_height = df_heights.max()\n",
    "range_height = max_height[0] - min_height[0]\n",
    "print(\"Rango [{0:d},{1:d}]: {2:d}\".format(min_height[0], max_height[0], range_height))"
   ]
  },
  {
   "cell_type": "markdown",
   "id": "d2809063",
   "metadata": {},
   "source": [
    "### Desviación media absoluta (Mean absolute deviation)\n",
    "\n",
    "Las desviaciones de la media $d_i$ se obtienen restando la media $\\bar{x}$ de cada una de la $n$ observaciones muestrales ($x_1, x_2,...,x_n$). Es decir:\n",
    "\n",
    "$$d_i = x_i - \\bar{x}$$\n",
    "\n",
    "Dependiendo del signo de la desciación, se tienen los siguientes resultados:\n",
    "* $d_i > 0$: La observación es mas grande que la media.\n",
    "* $d_i < 0$: La observación es menor que la media.\n",
    "* $d_i = 0$: La observación es igual la media.\n",
    "\n",
    "Si todas las desviaciones son pequeñas en magnitud, entonces todas las $x_i$ se aproximan a la media y hay poca variabilidad.\n",
    "Alternativamente, si algunas de las desviaciones son grandes en magnitud, entonces algunas $x_i$ quedan lejos de lo que sugiere una mayor cantidad de variabilidad. \n",
    "\n",
    "Una forma simple de combinar las desviaciones en una sola cantidad es promediarlas. Desafortunadamente, esta medida no nos dira mucho pues al combinarsen las desviaciones, las desviaciones positivas compensan a las degativas por lo que la suma de estas se hace cero:\n",
    "\n",
    "$$promedio\\:de\\:desviaciones=\\frac{\\sum_{i=1}^{n}d_i}{n}=\\frac{\\sum_{i=1}^{n}(x_i - \\bar{x})}{n}= 0$$\n",
    "\n",
    "\n",
    "Una posibilidad es trabajar con los valores absolutos de las desviaciones y calcular la **desviación absoluta promedio** la cual estara dada por:\n",
    "\n",
    "$$desviacion\\:absoluta\\:promedio=\\frac{\\sum_{i=1}^{n}|d_i|}{n}=\\frac{\\sum_{i=1}^{n}|x_i - \\bar{x}|}{n}$$\n",
    "\n",
    "Sin embargo, como la operación de valor absoluto conduce a un número de dificultades teóricas se suele definir otras medidas mas apropiadas conocidas como la **varianza** y la **desviación estandar**."
   ]
  },
  {
   "cell_type": "markdown",
   "id": "af8e9a3a",
   "metadata": {},
   "source": [
    "### Varianza\n",
    "\n",
    "La **varianza muestral**  ($s^2$) es la suma de los cuadrados de las desviaciones de la media al cuadrado dividida por $n-1$, donde $n$ es el numero de datos:\n",
    "\n",
    "$$s^2=\\frac{\\sum_{i=1}^{n}d_i^2}{n-1}=\\frac{\\sum_{i=1}^{n}(x_i - \\bar{x})^2}{n-1}=\\frac{S_{xx}}{n-1}$$"
   ]
  },
  {
   "cell_type": "markdown",
   "id": "23694635",
   "metadata": {},
   "source": [
    "### Desviación estandar\n",
    "\n",
    "La **desviación estandar muestral** ($s$) es la raiz cuadrada de la varianza:\n",
    "\n",
    "$$s=\\sqrt{s^2}$$"
   ]
  },
  {
   "cell_type": "markdown",
   "id": "d793d585",
   "metadata": {},
   "source": [
    "### Ejemplo\n",
    "\n",
    "El sitio web www.fueleconomy.gov contiene una gran cantidad de información acerca de las características del combustible de varios vehículos. Además de las calificaciones de millaje de la EPA, hay muchos vehículos para los que los usuarios han informado de sus propios valores de eficiencia de combustible (mpg). Considere la siguiente muestra de $n = 11$ eficiencias para el Ford Focus 2009 equipado con transmisión automática (para este modelo, la EPA informa de una calificación general de 27 mpg-24 mpg en ciudad y 33 mpg en carretera) las cuales se muestran a continuación:\n",
    "\n",
    "|$x_i$|\n",
    "|---|\n",
    "|27.3| \n",
    "|27.9|\n",
    "|32.9|\n",
    "|35.2|\n",
    "|44.9|\n",
    "|39.9|\n",
    "|30.0|\n",
    "|29.7|\n",
    "|28.5|\n",
    "|32.0|\n",
    "\n",
    "Obtenga:\n",
    "1. La media.\n",
    "2. Las desviaciones.\n",
    "3. Las desviaciones al cuadrado\n",
    "4. La desviacion estandar.\n",
    "5. La varianza."
   ]
  },
  {
   "cell_type": "code",
   "execution_count": 49,
   "id": "3b494d77",
   "metadata": {},
   "outputs": [
    {
     "name": "stdout",
     "output_type": "stream",
     "text": [
      "-----------------------------------------------------------\n",
      "EPA (mpg):  [27.3 27.9 32.9 35.2 44.9 39.9 30.  29.7 28.5 32.  37.6]\n",
      "EPA Media:  33.263636363636365\n",
      "Desviaciones EPA:  [-5.96363636 -5.36363636 -0.36363636  1.93636364 11.63636364  6.63636364\n",
      " -3.26363636 -3.56363636 -4.76363636 -1.26363636  4.33636364]\n",
      "Error cuadratico EPA:  [3.55649587e+01 2.87685950e+01 1.32231405e-01 3.74950413e+00\n",
      " 1.35404959e+02 4.40413223e+01 1.06513223e+01 1.26995041e+01\n",
      " 2.26922314e+01 1.59677686e+00 1.88040496e+01]\n",
      "Varianza:  31.41054545454545\n",
      "Desviacion estandar EPA:  2.367384879986828\n",
      "-----------------------------------------------------------\n",
      "EPA Media:  33.263636363636365\n",
      "Varianza EPA [np.std]:  31.41054545454545\n",
      "Desviacion estandar [np.var]:  5.604511169990247\n"
     ]
    }
   ],
   "source": [
    "# Solucion numpy\n",
    "# Calculos empleando funciones de acuerdo a las formulas\n",
    "epa_data =  np.array([27.3, 27.9, 32.9, 35.2, 44.9, 39.9, 30.0, 29.7, 28.5, 32.0, 37.6])\n",
    "epa_mean = np.mean(epa_data)\n",
    "epa_desv = epa_data - np.array(epa_data.size*[epa_mean])\n",
    "epa_ec = epa_desv**2\n",
    "epa_var = np.sum(epa_ec)/(epa_data.size - 1)\n",
    "epa_std = (epa_std)**0.5\n",
    "# Despliegue de valores\n",
    "print(\"RESUMEN DE LAS MEDIDAS DE DISPERSION\")\n",
    "print(\"-----------------------------------------------------------\")\n",
    "print(\"EPA (mpg): \",epa_data)\n",
    "print(\"EPA Media: \",epa_mean)\n",
    "print(\"Desviaciones EPA: \",epa_desv)\n",
    "print(\"Error cuadratico EPA: \",epa_ec)\n",
    "print(\"Varianza: \",epa_var)\n",
    "print(\"Desviacion estandar EPA: \",epa_std)\n",
    "print(\"-----------------------------------------------------------\")\n",
    "# Obtencion de la media, la desviacion estandar y la varianza usando las formulas de numpy\n",
    "epa_mean = np.mean(epa_data)\n",
    "epa_std = np.std(epa_data, ddof=1)\n",
    "epa_var = np.var(epa_data, ddof=1)\n",
    "print(\"EPA Media: \",epa_mean)\n",
    "print(\"Varianza EPA [np.std]: \",epa_var)\n",
    "print(\"Desviacion estandar [np.var]: \",epa_std)"
   ]
  },
  {
   "cell_type": "code",
   "execution_count": 91,
   "id": "4e9abe44",
   "metadata": {},
   "outputs": [
    {
     "data": {
      "text/html": [
       "<div>\n",
       "<style scoped>\n",
       "    .dataframe tbody tr th:only-of-type {\n",
       "        vertical-align: middle;\n",
       "    }\n",
       "\n",
       "    .dataframe tbody tr th {\n",
       "        vertical-align: top;\n",
       "    }\n",
       "\n",
       "    .dataframe thead th {\n",
       "        text-align: right;\n",
       "    }\n",
       "</style>\n",
       "<table border=\"1\" class=\"dataframe\">\n",
       "  <thead>\n",
       "    <tr style=\"text-align: right;\">\n",
       "      <th></th>\n",
       "      <th>epa_data</th>\n",
       "      <th>epa_dist</th>\n",
       "      <th>epa_dist</th>\n",
       "    </tr>\n",
       "  </thead>\n",
       "  <tbody>\n",
       "    <tr>\n",
       "      <th>0</th>\n",
       "      <td>27.3</td>\n",
       "      <td>-5.963636</td>\n",
       "      <td>35.564959</td>\n",
       "    </tr>\n",
       "    <tr>\n",
       "      <th>1</th>\n",
       "      <td>27.9</td>\n",
       "      <td>-5.363636</td>\n",
       "      <td>28.768595</td>\n",
       "    </tr>\n",
       "    <tr>\n",
       "      <th>2</th>\n",
       "      <td>32.9</td>\n",
       "      <td>-0.363636</td>\n",
       "      <td>0.132231</td>\n",
       "    </tr>\n",
       "    <tr>\n",
       "      <th>3</th>\n",
       "      <td>35.2</td>\n",
       "      <td>1.936364</td>\n",
       "      <td>3.749504</td>\n",
       "    </tr>\n",
       "    <tr>\n",
       "      <th>4</th>\n",
       "      <td>44.9</td>\n",
       "      <td>11.636364</td>\n",
       "      <td>135.404959</td>\n",
       "    </tr>\n",
       "    <tr>\n",
       "      <th>5</th>\n",
       "      <td>39.9</td>\n",
       "      <td>6.636364</td>\n",
       "      <td>44.041322</td>\n",
       "    </tr>\n",
       "    <tr>\n",
       "      <th>6</th>\n",
       "      <td>30.0</td>\n",
       "      <td>-3.263636</td>\n",
       "      <td>10.651322</td>\n",
       "    </tr>\n",
       "    <tr>\n",
       "      <th>7</th>\n",
       "      <td>29.7</td>\n",
       "      <td>-3.563636</td>\n",
       "      <td>12.699504</td>\n",
       "    </tr>\n",
       "    <tr>\n",
       "      <th>8</th>\n",
       "      <td>28.5</td>\n",
       "      <td>-4.763636</td>\n",
       "      <td>22.692231</td>\n",
       "    </tr>\n",
       "    <tr>\n",
       "      <th>9</th>\n",
       "      <td>32.0</td>\n",
       "      <td>-1.263636</td>\n",
       "      <td>1.596777</td>\n",
       "    </tr>\n",
       "    <tr>\n",
       "      <th>10</th>\n",
       "      <td>37.6</td>\n",
       "      <td>4.336364</td>\n",
       "      <td>18.804050</td>\n",
       "    </tr>\n",
       "  </tbody>\n",
       "</table>\n",
       "</div>"
      ],
      "text/plain": [
       "    epa_data   epa_dist    epa_dist\n",
       "0       27.3  -5.963636   35.564959\n",
       "1       27.9  -5.363636   28.768595\n",
       "2       32.9  -0.363636    0.132231\n",
       "3       35.2   1.936364    3.749504\n",
       "4       44.9  11.636364  135.404959\n",
       "5       39.9   6.636364   44.041322\n",
       "6       30.0  -3.263636   10.651322\n",
       "7       29.7  -3.563636   12.699504\n",
       "8       28.5  -4.763636   22.692231\n",
       "9       32.0  -1.263636    1.596777\n",
       "10      37.6   4.336364   18.804050"
      ]
     },
     "execution_count": 91,
     "metadata": {},
     "output_type": "execute_result"
    }
   ],
   "source": [
    "# Solución pandas\n",
    "data = {'epa_data':pd.Series([27.3, 27.9, 32.9, 35.2, 44.9, 39.9, 30.0, 29.7, 28.5, 32.0, 37.6])}\n",
    "epa_data = pd.DataFrame(data)\n",
    "epa_mean = epa_data.mean()\n",
    "epa_desv = epa_data - epa_mean\n",
    "epa_desv = epa_desv.rename(columns={'epa_data':'epa_dist'})\n",
    "epa_ec = epa_desv**2\n",
    "epa_ec = epa_ec.rename(columns={'epa_data':'epa_ec'})\n",
    "epa_var =  epa_data.var()\n",
    "epa_std = epa_data.std()\n",
    "df_summary = pd.concat([epa_data,epa_desv,epa_ec],axis=1)\n",
    "df_summary"
   ]
  },
  {
   "cell_type": "code",
   "execution_count": 94,
   "id": "e90144b4",
   "metadata": {},
   "outputs": [
    {
     "name": "stdout",
     "output_type": "stream",
     "text": [
      "EPA Media:  epa_data    33.263636\n",
      "dtype: float64\n",
      "Varianza EPA:  epa_data    31.410545\n",
      "dtype: float64\n",
      "Desviacion estandar:  epa_data    5.604511\n",
      "dtype: float64\n"
     ]
    }
   ],
   "source": [
    "print(\"EPA Media: \",epa_mean)\n",
    "print(\"Varianza EPA: \",epa_var)\n",
    "print(\"Desviacion estandar: \",epa_std)"
   ]
  },
  {
   "cell_type": "markdown",
   "id": "7b1bf732",
   "metadata": {},
   "source": [
    "### Resumen de los cinco numeros\n",
    "\n",
    "Para un conjunto dado de números $x_1, x_2,...,x_n$, se toman las siguiente cinco metricas:\n",
    "1. Valor maximo: \n",
    "\n",
    "$$x_{min} = min({x_1,x_2,...,x_n})$$\n",
    "\n",
    "2. Cuartil inferior:\n",
    "\n",
    "$$ Q1 = P_{25}$$\n",
    "\n",
    "3. Mediana:\n",
    "\n",
    "$$m = Q2 = P_{50}= median({x_1,x_2,...,x_n})$$\n",
    "\n",
    "4. Cuartil superior:\n",
    "\n",
    "$$ Q3 = P_{75}$$\n",
    "\n",
    "5. Valor maximo: \n",
    "\n",
    "$$x_{max} = max({x_1,x_2,...,x_n})$$\n",
    "\n",
    "En resumen, los 5 datos estan dados por la siguiente lista:\n",
    "\n",
    "$$Min\\:\\:\\:Q1\\:\\:\\:Mediana\\:\\:\\:\\:Q3\\:\\:\\:\\:Max$$\n",
    "\n",
    "Finalmente, el rango intercuantilico (IRQ) esta dado por:\n",
    "\n",
    "$$IRQ = Q3 - Q1$$"
   ]
  },
  {
   "cell_type": "markdown",
   "id": "7cb9697b",
   "metadata": {},
   "source": [
    "### Ejemplo\n",
    "\n",
    "Se utilizó ultrasonido para reunir los datos adjuntos de corrosión en el espesor de la placa de piso de un tanque elevado utilizado para almacenar petróleo crudo (“Statistical Analysis of UT Corrosion Data from Floor Plates of a Crude Oil Aboveground Storage Tank”, Materials Eval., 1994: 846–849); cada observación es la profundidad de la picadura más grande en la placa, expresada en milésimas de pulgada.\n",
    "\n",
    "```40 52 55 60 70 75 85 85 90 90 92 94 94 95 98 100 115 125 125```\n",
    "\n",
    "Muestre el resumen de los cinco numeros"
   ]
  },
  {
   "cell_type": "code",
   "execution_count": 53,
   "id": "f94f868b",
   "metadata": {},
   "outputs": [
    {
     "name": "stdout",
     "output_type": "stream",
     "text": [
      "Resumen profundidades\n",
      "- Minimo: 40.0\n",
      "- Q1: 72.5\n",
      "- Mediana: 90.0\n",
      "- Q3: 96.5\n",
      "- Maximo: 125.0\n",
      "- IRQ: 24.0\n"
     ]
    }
   ],
   "source": [
    "# Usando numpy\n",
    "profundidad = np.array([40, 52, 55, 60, 70, 75, 85, 85, 90, 90, 92, 94, 94, 95, 98, 100, 115, 125, 125])\n",
    "min_prof = np.quantile(profundidad,q = 0.0) # np.percentile(profundidad,q = 0)\n",
    "max_prof = np.quantile(profundidad,q = 1.0) # np.percentile(profundidad,q = 100)\n",
    "Q1_prof = np.quantile(profundidad,q = 0.25) # np.percentile(profundidad,q = 25)\n",
    "Q3_prof = np.quantile(profundidad,q = 0.75) # np.percentile(profundidad,q = 75)\n",
    "median_prof = np.quantile(profundidad,q = 0.5) # np.median(profundidad)\n",
    "rango_prof = np.ptp(profundidad)\n",
    "print(\"Resumen profundidades\")\n",
    "print(\"- Minimo: \", min_prof, sep=\"\")\n",
    "print(\"- Q1: \", Q1_prof , sep=\"\")\n",
    "print(\"- Mediana: \", median_prof , sep=\"\")\n",
    "print(\"- Q3: \", Q3_prof , sep=\"\")\n",
    "print(\"- Maximo: \", max_prof, sep=\"\")\n",
    "print(\"- IRQ: \", Q3_prof - Q1_prof, sep=\"\")"
   ]
  },
  {
   "cell_type": "code",
   "execution_count": 95,
   "id": "f64245a0",
   "metadata": {},
   "outputs": [
    {
     "data": {
      "text/html": [
       "<div>\n",
       "<style scoped>\n",
       "    .dataframe tbody tr th:only-of-type {\n",
       "        vertical-align: middle;\n",
       "    }\n",
       "\n",
       "    .dataframe tbody tr th {\n",
       "        vertical-align: top;\n",
       "    }\n",
       "\n",
       "    .dataframe thead th {\n",
       "        text-align: right;\n",
       "    }\n",
       "</style>\n",
       "<table border=\"1\" class=\"dataframe\">\n",
       "  <thead>\n",
       "    <tr style=\"text-align: right;\">\n",
       "      <th></th>\n",
       "      <th>epa_data</th>\n",
       "    </tr>\n",
       "  </thead>\n",
       "  <tbody>\n",
       "    <tr>\n",
       "      <th>count</th>\n",
       "      <td>11.000000</td>\n",
       "    </tr>\n",
       "    <tr>\n",
       "      <th>mean</th>\n",
       "      <td>33.263636</td>\n",
       "    </tr>\n",
       "    <tr>\n",
       "      <th>std</th>\n",
       "      <td>5.604511</td>\n",
       "    </tr>\n",
       "    <tr>\n",
       "      <th>min</th>\n",
       "      <td>27.300000</td>\n",
       "    </tr>\n",
       "    <tr>\n",
       "      <th>25%</th>\n",
       "      <td>29.100000</td>\n",
       "    </tr>\n",
       "    <tr>\n",
       "      <th>50%</th>\n",
       "      <td>32.000000</td>\n",
       "    </tr>\n",
       "    <tr>\n",
       "      <th>75%</th>\n",
       "      <td>36.400000</td>\n",
       "    </tr>\n",
       "    <tr>\n",
       "      <th>max</th>\n",
       "      <td>44.900000</td>\n",
       "    </tr>\n",
       "  </tbody>\n",
       "</table>\n",
       "</div>"
      ],
      "text/plain": [
       "        epa_data\n",
       "count  11.000000\n",
       "mean   33.263636\n",
       "std     5.604511\n",
       "min    27.300000\n",
       "25%    29.100000\n",
       "50%    32.000000\n",
       "75%    36.400000\n",
       "max    44.900000"
      ]
     },
     "execution_count": 95,
     "metadata": {},
     "output_type": "execute_result"
    }
   ],
   "source": [
    "# Solucion pandas\n",
    "data = {'epa_data':pd.Series([27.3, 27.9, 32.9, 35.2, 44.9, 39.9, 30.0, 29.7, 28.5, 32.0, 37.6])}\n",
    "epa_data = pd.DataFrame(data)\n",
    "epa_data.describe()"
   ]
  },
  {
   "cell_type": "markdown",
   "id": "6833f00d",
   "metadata": {},
   "source": [
    "## Definiciones importantes\n",
    "\n",
    "### Outlier (Dato atipico)\n",
    "\n",
    "Valor de un dato que es muy diferente a la mayora de los valores de los datos.\n",
    "\n",
    "### Robust (Robusto)\n",
    "\n",
    "Insensible a los datos extremos"
   ]
  },
  {
   "cell_type": "markdown",
   "id": "70b21569",
   "metadata": {},
   "source": [
    "## Referencias\n",
    "1. https://ncert.nic.in/textbook/pdf/keip106.pdf"
   ]
  },
  {
   "cell_type": "code",
   "execution_count": null,
   "id": "05a80642",
   "metadata": {},
   "outputs": [],
   "source": []
  }
 ],
 "metadata": {
  "kernelspec": {
   "display_name": "Python 3",
   "language": "python",
   "name": "python3"
  },
  "language_info": {
   "codemirror_mode": {
    "name": "ipython",
    "version": 3
   },
   "file_extension": ".py",
   "mimetype": "text/x-python",
   "name": "python",
   "nbconvert_exporter": "python",
   "pygments_lexer": "ipython3",
   "version": "3.8.8"
  }
 },
 "nbformat": 4,
 "nbformat_minor": 5
}
