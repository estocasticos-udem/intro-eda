{
 "cells": [
  {
   "cell_type": "code",
   "execution_count": 2,
   "id": "7b1e84f8",
   "metadata": {},
   "outputs": [],
   "source": [
    "import pandas as pd\n",
    "import numpy as np\n",
    "import seaborn as sns\n",
    "import matplotlib.pyplot as plt\n",
    "import stemgraphic"
   ]
  },
  {
   "cell_type": "markdown",
   "id": "499bd494",
   "metadata": {},
   "source": [
    "## Ejemplo 1\n",
    "\n",
    "La siguiente tabla contiene el reporte de las promeras dos decadar del **flu (Influenza) cases reporting**:\n",
    "\n",
    "|Year\t|# flu cases diagnosed|\t# flu deaths|\n",
    "|---|---|---|\n",
    "|Pre-1981|\t91|\t29|\n",
    "|1981|\t319|\t121|\n",
    "|1982|\t1,170|\t453|\n",
    "|1983|\t3,076|\t1,482|\n",
    "|1984|\t6,240|\t3,466|\n",
    "|1985|\t11,776|\t6,878|\n",
    "|1986|\t19,032|\t11,987|\n",
    "|1987|\t28,564|\t16,162|\n",
    "|1988|\t35,447|\t20,868|\n",
    "|1989|\t42,674|\t27,591|\n",
    "|1990|\t48,634|\t31,335|\n",
    "|1991|\t59,660|\t36,560|\n",
    "|1992|\t78,530|\t41,055|\n",
    "|1993|\t78,834|\t44,730|\n",
    "|1994|\t71,874|\t49,095|\n",
    "|1995|\t68,505|\t49,456|\n",
    "|1996|\t59,347|\t38,510|\n",
    "|1997|\t47,149|\t20,736|\n",
    "|1998|\t38,393|\t19,005|\n",
    "|1999|\t25,174|\t18,454|\n",
    "|2000|\t25,522|\t17,347|\n",
    "|2001|\t25,643|\t17,402|\n",
    "|2002|\t26,464|\t16,371|\n",
    "|**Total**|802,118|489,093|\n",
    "\n",
    "Realizar una grafica de disperción del año versus es \"# flu cases diagnosed\""
   ]
  },
  {
   "cell_type": "markdown",
   "id": "0eeab1cd",
   "metadata": {},
   "source": [
    "#### Creación del data frame asociado a la tabla"
   ]
  },
  {
   "cell_type": "code",
   "execution_count": 54,
   "id": "353137e3",
   "metadata": {},
   "outputs": [],
   "source": [
    "years = np.arange(1981,2003)\n",
    "flu_diagnosed = [\n",
    "                    319, 1170, 3076, 6240, 11776, 19032, 28564, 35447, 42674, 48634, 59660, \n",
    "                    78530, 78834, 71874, 68505, 59347, 47149, 38393, 25174, 25522, 25643, 26464\n",
    "                ]\n",
    "\n",
    "flu_deaths = [ \n",
    "                121, 453, 1482, 3466, 6878, 11987, 16162, 20868, 27591, 31335, 36560, 41055, \n",
    "                44730, 49095, 49456, 38510, 20736, 19005, 18454, 17347, 17402, 16371\n",
    "             ]\n",
    "\n",
    "df_flu = pd.DataFrame({'years': years, 'flu_diagnosed':flu_diagnosed, 'flu_deaths':flu_deaths})"
   ]
  },
  {
   "cell_type": "code",
   "execution_count": 55,
   "id": "a32d2dfd",
   "metadata": {},
   "outputs": [
    {
     "name": "stdout",
     "output_type": "stream",
     "text": [
      "<class 'pandas.core.frame.DataFrame'>\n",
      "RangeIndex: 22 entries, 0 to 21\n",
      "Data columns (total 3 columns):\n",
      " #   Column         Non-Null Count  Dtype\n",
      "---  ------         --------------  -----\n",
      " 0   years          22 non-null     int32\n",
      " 1   flu_diagnosed  22 non-null     int64\n",
      " 2   flu_deaths     22 non-null     int64\n",
      "dtypes: int32(1), int64(2)\n",
      "memory usage: 568.0 bytes\n"
     ]
    }
   ],
   "source": [
    "df_flu.info()"
   ]
  },
  {
   "cell_type": "markdown",
   "id": "7a8509e8",
   "metadata": {},
   "source": [
    "#### Conversión al tipo adecuado"
   ]
  },
  {
   "cell_type": "code",
   "execution_count": 56,
   "id": "a822efe1",
   "metadata": {},
   "outputs": [],
   "source": [
    "df_flu.years = df_flu.years.astype(\"category\")"
   ]
  },
  {
   "cell_type": "code",
   "execution_count": 57,
   "id": "03879f19",
   "metadata": {},
   "outputs": [
    {
     "data": {
      "text/plain": [
       "years            category\n",
       "flu_diagnosed       int64\n",
       "flu_deaths          int64\n",
       "dtype: object"
      ]
     },
     "execution_count": 57,
     "metadata": {},
     "output_type": "execute_result"
    }
   ],
   "source": [
    "df_flu.dtypes"
   ]
  },
  {
   "cell_type": "markdown",
   "id": "c380a7e2",
   "metadata": {},
   "source": [
    "#### Visualización rapida de la tabla"
   ]
  },
  {
   "cell_type": "code",
   "execution_count": 58,
   "id": "4bde7a48",
   "metadata": {},
   "outputs": [
    {
     "data": {
      "text/html": [
       "<div>\n",
       "<style scoped>\n",
       "    .dataframe tbody tr th:only-of-type {\n",
       "        vertical-align: middle;\n",
       "    }\n",
       "\n",
       "    .dataframe tbody tr th {\n",
       "        vertical-align: top;\n",
       "    }\n",
       "\n",
       "    .dataframe thead th {\n",
       "        text-align: right;\n",
       "    }\n",
       "</style>\n",
       "<table border=\"1\" class=\"dataframe\">\n",
       "  <thead>\n",
       "    <tr style=\"text-align: right;\">\n",
       "      <th></th>\n",
       "      <th>years</th>\n",
       "      <th>flu_diagnosed</th>\n",
       "      <th>flu_deaths</th>\n",
       "    </tr>\n",
       "  </thead>\n",
       "  <tbody>\n",
       "    <tr>\n",
       "      <th>0</th>\n",
       "      <td>1981</td>\n",
       "      <td>319</td>\n",
       "      <td>121</td>\n",
       "    </tr>\n",
       "    <tr>\n",
       "      <th>1</th>\n",
       "      <td>1982</td>\n",
       "      <td>1170</td>\n",
       "      <td>453</td>\n",
       "    </tr>\n",
       "    <tr>\n",
       "      <th>2</th>\n",
       "      <td>1983</td>\n",
       "      <td>3076</td>\n",
       "      <td>1482</td>\n",
       "    </tr>\n",
       "    <tr>\n",
       "      <th>3</th>\n",
       "      <td>1984</td>\n",
       "      <td>6240</td>\n",
       "      <td>3466</td>\n",
       "    </tr>\n",
       "    <tr>\n",
       "      <th>4</th>\n",
       "      <td>1985</td>\n",
       "      <td>11776</td>\n",
       "      <td>6878</td>\n",
       "    </tr>\n",
       "  </tbody>\n",
       "</table>\n",
       "</div>"
      ],
      "text/plain": [
       "  years  flu_diagnosed  flu_deaths\n",
       "0  1981            319         121\n",
       "1  1982           1170         453\n",
       "2  1983           3076        1482\n",
       "3  1984           6240        3466\n",
       "4  1985          11776        6878"
      ]
     },
     "execution_count": 58,
     "metadata": {},
     "output_type": "execute_result"
    }
   ],
   "source": [
    "df_flu.head() "
   ]
  },
  {
   "cell_type": "code",
   "execution_count": 59,
   "id": "7c08b4bf",
   "metadata": {},
   "outputs": [
    {
     "data": {
      "text/html": [
       "<div>\n",
       "<style scoped>\n",
       "    .dataframe tbody tr th:only-of-type {\n",
       "        vertical-align: middle;\n",
       "    }\n",
       "\n",
       "    .dataframe tbody tr th {\n",
       "        vertical-align: top;\n",
       "    }\n",
       "\n",
       "    .dataframe thead th {\n",
       "        text-align: right;\n",
       "    }\n",
       "</style>\n",
       "<table border=\"1\" class=\"dataframe\">\n",
       "  <thead>\n",
       "    <tr style=\"text-align: right;\">\n",
       "      <th></th>\n",
       "      <th>years</th>\n",
       "      <th>flu_diagnosed</th>\n",
       "      <th>flu_deaths</th>\n",
       "    </tr>\n",
       "  </thead>\n",
       "  <tbody>\n",
       "    <tr>\n",
       "      <th>17</th>\n",
       "      <td>1998</td>\n",
       "      <td>38393</td>\n",
       "      <td>19005</td>\n",
       "    </tr>\n",
       "    <tr>\n",
       "      <th>18</th>\n",
       "      <td>1999</td>\n",
       "      <td>25174</td>\n",
       "      <td>18454</td>\n",
       "    </tr>\n",
       "    <tr>\n",
       "      <th>19</th>\n",
       "      <td>2000</td>\n",
       "      <td>25522</td>\n",
       "      <td>17347</td>\n",
       "    </tr>\n",
       "    <tr>\n",
       "      <th>20</th>\n",
       "      <td>2001</td>\n",
       "      <td>25643</td>\n",
       "      <td>17402</td>\n",
       "    </tr>\n",
       "    <tr>\n",
       "      <th>21</th>\n",
       "      <td>2002</td>\n",
       "      <td>26464</td>\n",
       "      <td>16371</td>\n",
       "    </tr>\n",
       "  </tbody>\n",
       "</table>\n",
       "</div>"
      ],
      "text/plain": [
       "   years  flu_diagnosed  flu_deaths\n",
       "17  1998          38393       19005\n",
       "18  1999          25174       18454\n",
       "19  2000          25522       17347\n",
       "20  2001          25643       17402\n",
       "21  2002          26464       16371"
      ]
     },
     "execution_count": 59,
     "metadata": {},
     "output_type": "execute_result"
    }
   ],
   "source": [
    "df_flu.tail()"
   ]
  },
  {
   "cell_type": "code",
   "execution_count": 60,
   "id": "b280d211",
   "metadata": {},
   "outputs": [
    {
     "data": {
      "text/html": [
       "<div>\n",
       "<style scoped>\n",
       "    .dataframe tbody tr th:only-of-type {\n",
       "        vertical-align: middle;\n",
       "    }\n",
       "\n",
       "    .dataframe tbody tr th {\n",
       "        vertical-align: top;\n",
       "    }\n",
       "\n",
       "    .dataframe thead th {\n",
       "        text-align: right;\n",
       "    }\n",
       "</style>\n",
       "<table border=\"1\" class=\"dataframe\">\n",
       "  <thead>\n",
       "    <tr style=\"text-align: right;\">\n",
       "      <th></th>\n",
       "      <th>flu_diagnosed</th>\n",
       "      <th>flu_deaths</th>\n",
       "    </tr>\n",
       "  </thead>\n",
       "  <tbody>\n",
       "    <tr>\n",
       "      <th>count</th>\n",
       "      <td>22.000000</td>\n",
       "      <td>22.000000</td>\n",
       "    </tr>\n",
       "    <tr>\n",
       "      <th>mean</th>\n",
       "      <td>36455.772727</td>\n",
       "      <td>22230.181818</td>\n",
       "    </tr>\n",
       "    <tr>\n",
       "      <th>std</th>\n",
       "      <td>25102.632059</td>\n",
       "      <td>15643.203291</td>\n",
       "    </tr>\n",
       "    <tr>\n",
       "      <th>min</th>\n",
       "      <td>319.000000</td>\n",
       "      <td>121.000000</td>\n",
       "    </tr>\n",
       "    <tr>\n",
       "      <th>25%</th>\n",
       "      <td>20567.500000</td>\n",
       "      <td>13030.750000</td>\n",
       "    </tr>\n",
       "    <tr>\n",
       "      <th>50%</th>\n",
       "      <td>32005.500000</td>\n",
       "      <td>18729.500000</td>\n",
       "    </tr>\n",
       "    <tr>\n",
       "      <th>75%</th>\n",
       "      <td>56668.750000</td>\n",
       "      <td>35253.750000</td>\n",
       "    </tr>\n",
       "    <tr>\n",
       "      <th>max</th>\n",
       "      <td>78834.000000</td>\n",
       "      <td>49456.000000</td>\n",
       "    </tr>\n",
       "  </tbody>\n",
       "</table>\n",
       "</div>"
      ],
      "text/plain": [
       "       flu_diagnosed    flu_deaths\n",
       "count      22.000000     22.000000\n",
       "mean    36455.772727  22230.181818\n",
       "std     25102.632059  15643.203291\n",
       "min       319.000000    121.000000\n",
       "25%     20567.500000  13030.750000\n",
       "50%     32005.500000  18729.500000\n",
       "75%     56668.750000  35253.750000\n",
       "max     78834.000000  49456.000000"
      ]
     },
     "execution_count": 60,
     "metadata": {},
     "output_type": "execute_result"
    }
   ],
   "source": [
    "df_flu.describe()"
   ]
  },
  {
   "cell_type": "markdown",
   "id": "c901e5a0",
   "metadata": {},
   "source": [
    "#### Conteo de valores"
   ]
  },
  {
   "cell_type": "code",
   "execution_count": 61,
   "id": "15de7585",
   "metadata": {},
   "outputs": [
    {
     "data": {
      "text/plain": [
       "319      1\n",
       "1170     1\n",
       "25643    1\n",
       "25522    1\n",
       "25174    1\n",
       "38393    1\n",
       "47149    1\n",
       "59347    1\n",
       "68505    1\n",
       "71874    1\n",
       "78834    1\n",
       "78530    1\n",
       "59660    1\n",
       "48634    1\n",
       "42674    1\n",
       "35447    1\n",
       "28564    1\n",
       "19032    1\n",
       "11776    1\n",
       "6240     1\n",
       "3076     1\n",
       "26464    1\n",
       "Name: flu_diagnosed, dtype: int64"
      ]
     },
     "execution_count": 61,
     "metadata": {},
     "output_type": "execute_result"
    }
   ],
   "source": [
    "df_flu['flu_diagnosed'].value_counts()"
   ]
  },
  {
   "cell_type": "code",
   "execution_count": 62,
   "id": "0aa06a66",
   "metadata": {},
   "outputs": [
    {
     "data": {
      "text/plain": [
       "802027"
      ]
     },
     "execution_count": 62,
     "metadata": {},
     "output_type": "execute_result"
    }
   ],
   "source": [
    "df_flu['flu_diagnosed'].sum()"
   ]
  },
  {
   "cell_type": "code",
   "execution_count": 63,
   "id": "8776d7cd",
   "metadata": {},
   "outputs": [
    {
     "data": {
      "text/plain": [
       "121      1\n",
       "453      1\n",
       "17402    1\n",
       "17347    1\n",
       "18454    1\n",
       "19005    1\n",
       "20736    1\n",
       "38510    1\n",
       "49456    1\n",
       "49095    1\n",
       "44730    1\n",
       "41055    1\n",
       "36560    1\n",
       "31335    1\n",
       "27591    1\n",
       "20868    1\n",
       "16162    1\n",
       "11987    1\n",
       "6878     1\n",
       "3466     1\n",
       "1482     1\n",
       "16371    1\n",
       "Name: flu_deaths, dtype: int64"
      ]
     },
     "execution_count": 63,
     "metadata": {},
     "output_type": "execute_result"
    }
   ],
   "source": [
    "df_flu['flu_deaths'].value_counts()"
   ]
  },
  {
   "cell_type": "code",
   "execution_count": 64,
   "id": "f1b3314f",
   "metadata": {},
   "outputs": [
    {
     "data": {
      "text/plain": [
       "489064"
      ]
     },
     "execution_count": 64,
     "metadata": {},
     "output_type": "execute_result"
    }
   ],
   "source": [
    "df_flu['flu_deaths'].sum()"
   ]
  },
  {
   "cell_type": "markdown",
   "id": "f9e3aac3",
   "metadata": {},
   "source": [
    "#### Scatter plots"
   ]
  },
  {
   "cell_type": "code",
   "execution_count": 70,
   "id": "26f32225",
   "metadata": {},
   "outputs": [
    {
     "data": {
      "image/png": "[encoded data removed]",
      "text/plain": [
       "<Figure size 432x288 with 1 Axes>"
      ]
     },
     "metadata": {
      "needs_background": "light"
     },
     "output_type": "display_data"
    }
   ],
   "source": [
    "# Usando pandas ()\n",
    "df_flu.plot(kind=\"scatter\", \n",
    "            x = \"years\",\n",
    "            y = \"flu_diagnosed\", \n",
    "            title = \"Gráfica de dispersión de \\\"year\\\" vs \\\"# flu cases diagnosed\\\"\");"
   ]
  },
  {
   "cell_type": "code",
   "execution_count": 77,
   "id": "d27c4de8",
   "metadata": {},
   "outputs": [
    {
     "data": {
      "image/png": "[encoded data removed]",
      "text/plain": [
       "<Figure size 432x288 with 1 Axes>"
      ]
     },
     "metadata": {
      "needs_background": "light"
     },
     "output_type": "display_data"
    }
   ],
   "source": [
    "# Usando seaborn\n",
    "flu_scatter = sns.scatterplot(data=df_flu, x = 'years', y = 'flu_deaths');\n",
    "flu_scatter.set(title = \"Gráfica de dispersión de \\\"year\\\" vs \\\"# flu deaths\\\"\");"
   ]
  },
  {
   "cell_type": "code",
   "execution_count": 86,
   "id": "f9473b80",
   "metadata": {},
   "outputs": [
    {
     "data": {
      "image/png": "[encoded data removed]",
      "text/plain": [
       "<Figure size 432x288 with 2 Axes>"
      ]
     },
     "metadata": {
      "needs_background": "light"
     },
     "output_type": "display_data"
    }
   ],
   "source": [
    "# Ambas usando matplotlib\n",
    "\n",
    "figure, axes = plt.subplots(2, 1)\n",
    "\n",
    "df_flu.plot(ax=axes[0], x = \"years\", y = \"flu_diagnosed\", kind=\"scatter\");\n",
    "df_flu.plot(ax=axes[1], x = \"years\", y = \"flu_deaths\",color='red', kind=\"scatter\");"
   ]
  },
  {
   "cell_type": "code",
   "execution_count": 92,
   "id": "0831f7e1",
   "metadata": {},
   "outputs": [
    {
     "data": {
      "image/png": "[encoded data removed]",
      "text/plain": [
       "<Figure size 432x288 with 1 Axes>"
      ]
     },
     "metadata": {
      "needs_background": "light"
     },
     "output_type": "display_data"
    }
   ],
   "source": [
    "# Pendiente correccion (Mejorar)\n",
    "figure, axes = plt.subplots(1, 1)\n",
    "df_flu.plot(lw=2, ax=axes, x = \"years\", y = \"flu_diagnosed\", kind=\"scatter\");\n",
    "df_flu.plot(lw=2, ax=axes, x = \"years\", y = \"flu_deaths\",color='red', kind=\"scatter\");"
   ]
  },
  {
   "cell_type": "code",
   "execution_count": 177,
   "id": "ef2b98b0",
   "metadata": {},
   "outputs": [
    {
     "name": "stdout",
     "output_type": "stream",
     "text": [
      "<class 'pandas.core.frame.DataFrame'>\n",
      "RangeIndex: 28 entries, 0 to 27\n",
      "Data columns (total 2 columns):\n",
      " #   Column          Non-Null Count  Dtype \n",
      "---  ------          --------------  ----- \n",
      " 0   Marca           28 non-null     object\n",
      " 1   Pasas por caja  28 non-null     int64 \n",
      "dtypes: int64(1), object(1)\n",
      "memory usage: 576.0+ bytes\n"
     ]
    }
   ],
   "source": [
    "# Information about the dataframe\n",
    "df.info()"
   ]
  },
  {
   "cell_type": "markdown",
   "id": "1998fcad",
   "metadata": {},
   "source": [
    "Se obtienen dos dataframes separados para cada marca:"
   ]
  },
  {
   "cell_type": "code",
   "execution_count": 178,
   "id": "a1d4dabe",
   "metadata": {},
   "outputs": [],
   "source": [
    "# Separamos los dados de cada marcas\n",
    "df_generica = pd.DataFrame(df[df['Marca']== 'Generica']['Pasas por caja'],columns=['Pasas por caja'])\n",
    "df_sunmaid = pd.DataFrame(df[df['Marca']== 'Sunmaid']['Pasas por caja'],columns=['Pasas por caja'])"
   ]
  },
  {
   "cell_type": "code",
   "execution_count": 179,
   "id": "8d99fc20",
   "metadata": {},
   "outputs": [
    {
     "data": {
      "text/html": [
       "<div>\n",
       "<style scoped>\n",
       "    .dataframe tbody tr th:only-of-type {\n",
       "        vertical-align: middle;\n",
       "    }\n",
       "\n",
       "    .dataframe tbody tr th {\n",
       "        vertical-align: top;\n",
       "    }\n",
       "\n",
       "    .dataframe thead th {\n",
       "        text-align: right;\n",
       "    }\n",
       "</style>\n",
       "<table border=\"1\" class=\"dataframe\">\n",
       "  <thead>\n",
       "    <tr style=\"text-align: right;\">\n",
       "      <th></th>\n",
       "      <th>Pasas por caja</th>\n",
       "    </tr>\n",
       "  </thead>\n",
       "  <tbody>\n",
       "    <tr>\n",
       "      <th>0</th>\n",
       "      <td>25</td>\n",
       "    </tr>\n",
       "    <tr>\n",
       "      <th>1</th>\n",
       "      <td>26</td>\n",
       "    </tr>\n",
       "    <tr>\n",
       "      <th>2</th>\n",
       "      <td>25</td>\n",
       "    </tr>\n",
       "    <tr>\n",
       "      <th>3</th>\n",
       "      <td>28</td>\n",
       "    </tr>\n",
       "    <tr>\n",
       "      <th>4</th>\n",
       "      <td>26</td>\n",
       "    </tr>\n",
       "    <tr>\n",
       "      <th>5</th>\n",
       "      <td>28</td>\n",
       "    </tr>\n",
       "    <tr>\n",
       "      <th>6</th>\n",
       "      <td>28</td>\n",
       "    </tr>\n",
       "    <tr>\n",
       "      <th>7</th>\n",
       "      <td>27</td>\n",
       "    </tr>\n",
       "    <tr>\n",
       "      <th>8</th>\n",
       "      <td>26</td>\n",
       "    </tr>\n",
       "    <tr>\n",
       "      <th>9</th>\n",
       "      <td>27</td>\n",
       "    </tr>\n",
       "    <tr>\n",
       "      <th>10</th>\n",
       "      <td>24</td>\n",
       "    </tr>\n",
       "    <tr>\n",
       "      <th>11</th>\n",
       "      <td>25</td>\n",
       "    </tr>\n",
       "    <tr>\n",
       "      <th>12</th>\n",
       "      <td>26</td>\n",
       "    </tr>\n",
       "    <tr>\n",
       "      <th>13</th>\n",
       "      <td>26</td>\n",
       "    </tr>\n",
       "  </tbody>\n",
       "</table>\n",
       "</div>"
      ],
      "text/plain": [
       "    Pasas por caja\n",
       "0               25\n",
       "1               26\n",
       "2               25\n",
       "3               28\n",
       "4               26\n",
       "5               28\n",
       "6               28\n",
       "7               27\n",
       "8               26\n",
       "9               27\n",
       "10              24\n",
       "11              25\n",
       "12              26\n",
       "13              26"
      ]
     },
     "execution_count": 179,
     "metadata": {},
     "output_type": "execute_result"
    }
   ],
   "source": [
    "# Ta\n",
    "df_generica"
   ]
  },
  {
   "cell_type": "code",
   "execution_count": 180,
   "id": "865bd8e9",
   "metadata": {},
   "outputs": [
    {
     "data": {
      "text/html": [
       "<div>\n",
       "<style scoped>\n",
       "    .dataframe tbody tr th:only-of-type {\n",
       "        vertical-align: middle;\n",
       "    }\n",
       "\n",
       "    .dataframe tbody tr th {\n",
       "        vertical-align: top;\n",
       "    }\n",
       "\n",
       "    .dataframe thead th {\n",
       "        text-align: right;\n",
       "    }\n",
       "</style>\n",
       "<table border=\"1\" class=\"dataframe\">\n",
       "  <thead>\n",
       "    <tr style=\"text-align: right;\">\n",
       "      <th></th>\n",
       "      <th>Pasas por caja</th>\n",
       "    </tr>\n",
       "  </thead>\n",
       "  <tbody>\n",
       "    <tr>\n",
       "      <th>0</th>\n",
       "      <td>25</td>\n",
       "    </tr>\n",
       "    <tr>\n",
       "      <th>1</th>\n",
       "      <td>29</td>\n",
       "    </tr>\n",
       "    <tr>\n",
       "      <th>2</th>\n",
       "      <td>24</td>\n",
       "    </tr>\n",
       "    <tr>\n",
       "      <th>3</th>\n",
       "      <td>24</td>\n",
       "    </tr>\n",
       "    <tr>\n",
       "      <th>4</th>\n",
       "      <td>28</td>\n",
       "    </tr>\n",
       "    <tr>\n",
       "      <th>5</th>\n",
       "      <td>24</td>\n",
       "    </tr>\n",
       "    <tr>\n",
       "      <th>6</th>\n",
       "      <td>28</td>\n",
       "    </tr>\n",
       "    <tr>\n",
       "      <th>7</th>\n",
       "      <td>22</td>\n",
       "    </tr>\n",
       "    <tr>\n",
       "      <th>8</th>\n",
       "      <td>25</td>\n",
       "    </tr>\n",
       "    <tr>\n",
       "      <th>9</th>\n",
       "      <td>28</td>\n",
       "    </tr>\n",
       "    <tr>\n",
       "      <th>10</th>\n",
       "      <td>30</td>\n",
       "    </tr>\n",
       "    <tr>\n",
       "      <th>11</th>\n",
       "      <td>27</td>\n",
       "    </tr>\n",
       "    <tr>\n",
       "      <th>12</th>\n",
       "      <td>28</td>\n",
       "    </tr>\n",
       "    <tr>\n",
       "      <th>13</th>\n",
       "      <td>24</td>\n",
       "    </tr>\n",
       "  </tbody>\n",
       "</table>\n",
       "</div>"
      ],
      "text/plain": [
       "    Pasas por caja\n",
       "0               25\n",
       "1               29\n",
       "2               24\n",
       "3               24\n",
       "4               28\n",
       "5               24\n",
       "6               28\n",
       "7               22\n",
       "8               25\n",
       "9               28\n",
       "10              30\n",
       "11              27\n",
       "12              28\n",
       "13              24"
      ]
     },
     "execution_count": 180,
     "metadata": {},
     "output_type": "execute_result"
    }
   ],
   "source": [
    "df_sunmaid = df_sunmaid.reset_index(drop=True)\n",
    "df_sunmaid"
   ]
  },
  {
   "cell_type": "markdown",
   "id": "deab2ed4",
   "metadata": {},
   "source": [
    "### Punto 1 ###\n",
    "Media y desviación estándar para la marca genérica"
   ]
  },
  {
   "cell_type": "code",
   "execution_count": 181,
   "id": "8e166898",
   "metadata": {},
   "outputs": [
    {
     "name": "stdout",
     "output_type": "stream",
     "text": [
      "Marca generica\n",
      "- Media: 26.2143\n",
      "- Desviacion estandar: 1.2514\n"
     ]
    }
   ],
   "source": [
    "# Media\n",
    "media_generica = df_generica.mean()[0]\n",
    "# desviacion estandar\n",
    "std_generica = df_generica.std()[0]\n",
    "\n",
    "print(\"Marca generica\")\n",
    "print(\"- Media: {0:.4f}\".format(media_generica))\n",
    "print(\"- Desviacion estandar: {0:.4f}\".format(std_generica))"
   ]
  },
  {
   "cell_type": "markdown",
   "id": "41a6bb85",
   "metadata": {},
   "source": [
    "### Punto 2\n",
    "\n",
    "Media y desviación estándar para la marca sunmaid"
   ]
  },
  {
   "cell_type": "code",
   "execution_count": 182,
   "id": "ecf4e557",
   "metadata": {},
   "outputs": [
    {
     "name": "stdout",
     "output_type": "stream",
     "text": [
      "Marca sunmaid\n",
      "- Media: 26.1429\n",
      "- Desviacion estandar: 2.4133\n"
     ]
    }
   ],
   "source": [
    "# Media\n",
    "media_sunmaid = df_sunmaid.mean()[0]\n",
    "# desviacion estandar\n",
    "std_sunmaid = df_sunmaid.std()[0]\n",
    "\n",
    "print(\"Marca sunmaid\")\n",
    "print(\"- Media: {0:.4f}\".format(media_sunmaid))\n",
    "print(\"- Desviacion estandar: {0:.4f}\".format(std_sunmaid))"
   ]
  },
  {
   "cell_type": "markdown",
   "id": "ba3042a1",
   "metadata": {},
   "source": [
    "### Punto 3\n",
    "\n",
    "Encuentre la mediana, los cuartiles superior e inferior y el IQR para cada uno de los dos conjuntos de datos.\n",
    "\n",
    "El **resumen de cinco números** consta del número más pequeño, el cuartil inferior, le mediana, el cuartil superior, y el número más grande, presentados en orden de menor a mayor:\n",
    "\n",
    "$$Min \\:\\:\\: Q_1 \\:\\:\\: Mediana \\:\\:\\: Q_3 \\:\\:\\: Max$$"
   ]
  },
  {
   "cell_type": "markdown",
   "id": "c977da3b",
   "metadata": {},
   "source": [
    "#### Marca generica"
   ]
  },
  {
   "cell_type": "code",
   "execution_count": 183,
   "id": "ced6088f",
   "metadata": {},
   "outputs": [
    {
     "name": "stdout",
     "output_type": "stream",
     "text": [
      "Marca generica\n",
      "- Rango [24,28]: 4\n",
      "- Mediana: 26.0000\n",
      "- Min: 24.0000\n",
      "- Q1 (0.25): 25.2500\n",
      "- Q2 (0.5): 26.0000\n",
      "- Q3 (0.75): 27.0000\n",
      "- Max: 28.0000\n",
      "- IRQ: 1.7500\n"
     ]
    }
   ],
   "source": [
    "# Resumen marca generica\n",
    "\n",
    "# Mediana\n",
    "mediana_generica = df_generica.median()[0]\n",
    "\n",
    "# Rango\n",
    "min_generica = df_generica.min()[0] # df_generica.quantile(q = 0)[0]\n",
    "max_generica = df_generica.max()[0] # df_generica.quantile(q = 1)[0]\n",
    "rango_generica = df_generica.max()[0] - df_generica.min()[0] \n",
    "\n",
    "# Cuartiles\n",
    "Q1_generica = df_generica.quantile(q = .25)[0]\n",
    "Q3_generica = df_generica.quantile(q = .75)[0]\n",
    "IQR_generica = Q3_generica - Q1_generica\n",
    "\n",
    "print(\"Marca generica\")\n",
    "print(\"- Rango [{0:d},{1:d}]: {2:d}\".format(min_generica, max_generica, rango_generica))\n",
    "print(\"- Mediana: {0:.4f}\".format(mediana_generica))\n",
    "print(\"- Min: {0:.4f}\".format(min_generica))\n",
    "print(\"- Q1 (0.25): {0:.4f}\".format(Q1_generica))\n",
    "print(\"- Q2 (0.5): {0:.4f}\".format(mediana_generica))\n",
    "print(\"- Q3 (0.75): {0:.4f}\".format(Q3_generica))\n",
    "print(\"- Max: {0:.4f}\".format(max_generica))\n",
    "print(\"- IRQ: {0:.4f}\".format(IQR_generica))"
   ]
  },
  {
   "cell_type": "code",
   "execution_count": 184,
   "id": "8aba5ee1",
   "metadata": {},
   "outputs": [
    {
     "data": {
      "text/html": [
       "<div>\n",
       "<style scoped>\n",
       "    .dataframe tbody tr th:only-of-type {\n",
       "        vertical-align: middle;\n",
       "    }\n",
       "\n",
       "    .dataframe tbody tr th {\n",
       "        vertical-align: top;\n",
       "    }\n",
       "\n",
       "    .dataframe thead th {\n",
       "        text-align: right;\n",
       "    }\n",
       "</style>\n",
       "<table border=\"1\" class=\"dataframe\">\n",
       "  <thead>\n",
       "    <tr style=\"text-align: right;\">\n",
       "      <th></th>\n",
       "      <th>Pasas por caja</th>\n",
       "    </tr>\n",
       "  </thead>\n",
       "  <tbody>\n",
       "    <tr>\n",
       "      <th>count</th>\n",
       "      <td>14.000000</td>\n",
       "    </tr>\n",
       "    <tr>\n",
       "      <th>mean</th>\n",
       "      <td>26.214286</td>\n",
       "    </tr>\n",
       "    <tr>\n",
       "      <th>std</th>\n",
       "      <td>1.251373</td>\n",
       "    </tr>\n",
       "    <tr>\n",
       "      <th>min</th>\n",
       "      <td>24.000000</td>\n",
       "    </tr>\n",
       "    <tr>\n",
       "      <th>25%</th>\n",
       "      <td>25.250000</td>\n",
       "    </tr>\n",
       "    <tr>\n",
       "      <th>50%</th>\n",
       "      <td>26.000000</td>\n",
       "    </tr>\n",
       "    <tr>\n",
       "      <th>75%</th>\n",
       "      <td>27.000000</td>\n",
       "    </tr>\n",
       "    <tr>\n",
       "      <th>max</th>\n",
       "      <td>28.000000</td>\n",
       "    </tr>\n",
       "  </tbody>\n",
       "</table>\n",
       "</div>"
      ],
      "text/plain": [
       "       Pasas por caja\n",
       "count       14.000000\n",
       "mean        26.214286\n",
       "std          1.251373\n",
       "min         24.000000\n",
       "25%         25.250000\n",
       "50%         26.000000\n",
       "75%         27.000000\n",
       "max         28.000000"
      ]
     },
     "execution_count": 184,
     "metadata": {},
     "output_type": "execute_result"
    }
   ],
   "source": [
    "# Con un solo comando\n",
    "df_generica.describe()"
   ]
  },
  {
   "cell_type": "markdown",
   "id": "af278c16",
   "metadata": {},
   "source": [
    "#### Marca sunmaid"
   ]
  },
  {
   "cell_type": "code",
   "execution_count": 185,
   "id": "9011245f",
   "metadata": {},
   "outputs": [
    {
     "name": "stdout",
     "output_type": "stream",
     "text": [
      "Marca sunmaid\n",
      "- Rango [22,30]: 8\n",
      "- Mediana: 26.0000\n",
      "- Min: 22.0000\n",
      "- Q1 (0.25): 24.0000\n",
      "- Q2 (0.5): 26.0000\n",
      "- Q3 (0.75): 28.0000\n",
      "- Max: 30.0000\n",
      "- IRQ: 4.0000\n"
     ]
    }
   ],
   "source": [
    "# Resumen marca sunmaid\n",
    "\n",
    "# Mediana\n",
    "mediana_sunmaid = df_generica.median()[0]\n",
    "\n",
    "# Rango\n",
    "min_sunmaid = df_sunmaid.min()[0] # df_generica.quantile(q = 0)[0]\n",
    "max_sunmaid = df_sunmaid.max()[0] # df_generica.quantile(q = 1)[0]\n",
    "rango_sunmaid = max_sunmaid - min_sunmaid\n",
    "\n",
    "# Cuartiles\n",
    "Q1_sunmaid = df_sunmaid.quantile(q = .25)[0]\n",
    "Q3_sunmaid = df_sunmaid.quantile(q = .75)[0]\n",
    "IQR_sunmaid = Q3_sunmaid - Q1_sunmaid\n",
    "\n",
    "print(\"Marca sunmaid\")\n",
    "print(\"- Rango [{0:d},{1:d}]: {2:d}\".format(min_sunmaid, max_sunmaid, rango_sunmaid))\n",
    "print(\"- Mediana: {0:.4f}\".format(mediana_sunmaid))\n",
    "print(\"- Min: {0:.4f}\".format(min_sunmaid))\n",
    "print(\"- Q1 (0.25): {0:.4f}\".format(Q1_sunmaid))\n",
    "print(\"- Q2 (0.5): {0:.4f}\".format(mediana_sunmaid))\n",
    "print(\"- Q3 (0.75): {0:.4f}\".format(Q3_sunmaid))\n",
    "print(\"- Max: {0:.4f}\".format(max_sunmaid))\n",
    "print(\"- IRQ: {0:.4f}\".format(IQR_sunmaid))"
   ]
  },
  {
   "cell_type": "code",
   "execution_count": 186,
   "id": "c36f97b9",
   "metadata": {},
   "outputs": [
    {
     "data": {
      "text/html": [
       "<div>\n",
       "<style scoped>\n",
       "    .dataframe tbody tr th:only-of-type {\n",
       "        vertical-align: middle;\n",
       "    }\n",
       "\n",
       "    .dataframe tbody tr th {\n",
       "        vertical-align: top;\n",
       "    }\n",
       "\n",
       "    .dataframe thead th {\n",
       "        text-align: right;\n",
       "    }\n",
       "</style>\n",
       "<table border=\"1\" class=\"dataframe\">\n",
       "  <thead>\n",
       "    <tr style=\"text-align: right;\">\n",
       "      <th></th>\n",
       "      <th>Pasas por caja</th>\n",
       "    </tr>\n",
       "  </thead>\n",
       "  <tbody>\n",
       "    <tr>\n",
       "      <th>count</th>\n",
       "      <td>14.000000</td>\n",
       "    </tr>\n",
       "    <tr>\n",
       "      <th>mean</th>\n",
       "      <td>26.142857</td>\n",
       "    </tr>\n",
       "    <tr>\n",
       "      <th>std</th>\n",
       "      <td>2.413333</td>\n",
       "    </tr>\n",
       "    <tr>\n",
       "      <th>min</th>\n",
       "      <td>22.000000</td>\n",
       "    </tr>\n",
       "    <tr>\n",
       "      <th>25%</th>\n",
       "      <td>24.000000</td>\n",
       "    </tr>\n",
       "    <tr>\n",
       "      <th>50%</th>\n",
       "      <td>26.000000</td>\n",
       "    </tr>\n",
       "    <tr>\n",
       "      <th>75%</th>\n",
       "      <td>28.000000</td>\n",
       "    </tr>\n",
       "    <tr>\n",
       "      <th>max</th>\n",
       "      <td>30.000000</td>\n",
       "    </tr>\n",
       "  </tbody>\n",
       "</table>\n",
       "</div>"
      ],
      "text/plain": [
       "       Pasas por caja\n",
       "count       14.000000\n",
       "mean        26.142857\n",
       "std          2.413333\n",
       "min         22.000000\n",
       "25%         24.000000\n",
       "50%         26.000000\n",
       "75%         28.000000\n",
       "max         30.000000"
      ]
     },
     "execution_count": 186,
     "metadata": {},
     "output_type": "execute_result"
    }
   ],
   "source": [
    "# Con un solo comando\n",
    "df_sunmaid.describe()"
   ]
  },
  {
   "cell_type": "markdown",
   "id": "d8a1e4c6",
   "metadata": {},
   "source": [
    "### Punto 4\n",
    "Construya dos gráficas de caja en la misma escala horizontal para comparar los dos conjuntos de datos."
   ]
  },
  {
   "cell_type": "markdown",
   "id": "54f84253",
   "metadata": {},
   "source": [
    "#### Diagrama de caja de la marca generica"
   ]
  },
  {
   "cell_type": "code",
   "execution_count": 187,
   "id": "d8c2a667",
   "metadata": {},
   "outputs": [
    {
     "data": {
      "text/plain": [
       "Text(0.5, 1.0, 'Diagrama de cajas de la marca generica')"
      ]
     },
     "execution_count": 187,
     "metadata": {},
     "output_type": "execute_result"
    },
    {
     "data": {
      "image/png": "[encoded data removed]",
      "text/plain": [
       "<Figure size 432x288 with 1 Axes>"
      ]
     },
     "metadata": {},
     "output_type": "display_data"
    }
   ],
   "source": [
    "ax_generica = sns.boxplot(x=df_generica['Pasas por caja'])\n",
    "ax_generica.set_title('Diagrama de cajas de la marca generica')"
   ]
  },
  {
   "cell_type": "markdown",
   "id": "a9bd2ca1",
   "metadata": {},
   "source": [
    "#### Diagrama de caja de la marca Sunmaid"
   ]
  },
  {
   "cell_type": "code",
   "execution_count": 188,
   "id": "872c8e47",
   "metadata": {},
   "outputs": [
    {
     "data": {
      "text/plain": [
       "{'whiskers': [<matplotlib.lines.Line2D at 0x2b73b4615b0>,\n",
       "  <matplotlib.lines.Line2D at 0x2b73b461880>],\n",
       " 'caps': [<matplotlib.lines.Line2D at 0x2b73b461b50>,\n",
       "  <matplotlib.lines.Line2D at 0x2b73b461e20>],\n",
       " 'boxes': [<matplotlib.lines.Line2D at 0x2b73b454160>],\n",
       " 'medians': [<matplotlib.lines.Line2D at 0x2b73b46e130>],\n",
       " 'fliers': [<matplotlib.lines.Line2D at 0x2b73b46e400>],\n",
       " 'means': []}"
      ]
     },
     "execution_count": 188,
     "metadata": {},
     "output_type": "execute_result"
    },
    {
     "data": {
      "image/png": "[encoded data removed]",
      "text/plain": [
       "<Figure size 432x288 with 1 Axes>"
      ]
     },
     "metadata": {},
     "output_type": "display_data"
    }
   ],
   "source": [
    "fig_sunmaid, ax_sunmaid = plt.subplots()\n",
    "ax_sunmaid.set_title('Diagrama de cajas de la marca Sunmaid')\n",
    "ax_sunmaid.boxplot(df_sunmaid['Pasas por caja'], vert=False)"
   ]
  },
  {
   "cell_type": "code",
   "execution_count": 189,
   "id": "3949174d",
   "metadata": {},
   "outputs": [
    {
     "data": {
      "text/plain": [
       "Text(0.5, 1.0, 'Diagrama de cajas')"
      ]
     },
     "execution_count": 189,
     "metadata": {},
     "output_type": "execute_result"
    },
    {
     "data": {
      "image/png": "[encoded data removed]",
      "text/plain": [
       "<Figure size 432x288 with 1 Axes>"
      ]
     },
     "metadata": {},
     "output_type": "display_data"
    }
   ],
   "source": [
    "sns.set_theme(style=\"whitegrid\")\n",
    "ax_generica = sns.boxplot(x=df['Pasas por caja'],y=df['Marca'])\n",
    "ax_generica.set_title('Diagrama de cajas')"
   ]
  },
  {
   "cell_type": "markdown",
   "id": "7e11740e",
   "metadata": {},
   "source": [
    "# Ejemplo 2"
   ]
  },
  {
   "cell_type": "markdown",
   "id": "17fda630",
   "metadata": {},
   "source": [
    "Transductores de temperatura de cierto tipo se envían en lotes de 50. Se seleccionó una muestra de 60 lotes y se determinó el número de transductores en cada lote que no cumplen con las especificaciones de diseño y se obtuvieron los datos siguientes:\n",
    "\n",
    "```\n",
    "2 1 2 4 0 1 3 2 0 5 3 3 1 3 2 4 7 0 2 3\n",
    "0 4 2 1 3 1 1 3 4 1 2 3 2 2 8 4 5 1 3 1\n",
    "5 0 2 3 2 1 0 6 4 2 1 6 0 3 3 3 6 1 2 3\n",
    "```\n",
    "\n",
    "1. Determine las frecuencias y las frecuencias relativas de los valores observados de x = número de transductores en un lote que no cumplen con las especificaciones.\n",
    "2. ¿Qué proporción de lotes muestreados tienen a lo sumo cinco transductores que no cumplen con las especificaciones? ¿Qué proporción tienen menos de cinco? ¿Qué proporción tienen por lo menos cinco unidades que no cumplen con las especificaciones?\n",
    "3. Trace un histograma de los datos con la frecuencia relativa en la escala vertical y comente sus características.\n",
    "4. Construya la grafica de caja."
   ]
  },
  {
   "cell_type": "markdown",
   "id": "4240de0c",
   "metadata": {},
   "source": [
    "Antes de iniciar a solucionar el problema, es bueno conocer información relevante sobre los tipos de datos."
   ]
  },
  {
   "cell_type": "code",
   "execution_count": 190,
   "id": "6efd039b",
   "metadata": {},
   "outputs": [
    {
     "data": {
      "text/html": [
       "<div>\n",
       "<style scoped>\n",
       "    .dataframe tbody tr th:only-of-type {\n",
       "        vertical-align: middle;\n",
       "    }\n",
       "\n",
       "    .dataframe tbody tr th {\n",
       "        vertical-align: top;\n",
       "    }\n",
       "\n",
       "    .dataframe thead th {\n",
       "        text-align: right;\n",
       "    }\n",
       "</style>\n",
       "<table border=\"1\" class=\"dataframe\">\n",
       "  <thead>\n",
       "    <tr style=\"text-align: right;\">\n",
       "      <th></th>\n",
       "      <th># no cumple</th>\n",
       "    </tr>\n",
       "  </thead>\n",
       "  <tbody>\n",
       "    <tr>\n",
       "      <th>0</th>\n",
       "      <td>2</td>\n",
       "    </tr>\n",
       "    <tr>\n",
       "      <th>1</th>\n",
       "      <td>1</td>\n",
       "    </tr>\n",
       "    <tr>\n",
       "      <th>2</th>\n",
       "      <td>2</td>\n",
       "    </tr>\n",
       "    <tr>\n",
       "      <th>3</th>\n",
       "      <td>4</td>\n",
       "    </tr>\n",
       "    <tr>\n",
       "      <th>4</th>\n",
       "      <td>0</td>\n",
       "    </tr>\n",
       "  </tbody>\n",
       "</table>\n",
       "</div>"
      ],
      "text/plain": [
       "   # no cumple\n",
       "0            2\n",
       "1            1\n",
       "2            2\n",
       "3            4\n",
       "4            0"
      ]
     },
     "execution_count": 190,
     "metadata": {},
     "output_type": "execute_result"
    }
   ],
   "source": [
    "#Create a Dictionary of series\n",
    "data = {'# no cumple': pd.Series([2, 1, 2, 4, 0, 1, 3, 2, 0, 5, 3, 3, 1, 3, 2, 4, 7, 0, 2, 3, \n",
    "                                  0, 4, 2, 1, 3, 1, 1, 3, 4, 1, 2, 3, 2, 2, 8, 4, 5, 1, 3, 1,\n",
    "                                  5, 0, 2, 3, 2, 1, 0, 6, 4, 2, 1, 6, 0, 3, 3, 3, 6, 1, 2, 3])\n",
    "}\n",
    "\n",
    "#Create a DataFrame\n",
    "df = pd.DataFrame(data)\n",
    "df.head()"
   ]
  },
  {
   "cell_type": "markdown",
   "id": "6a1ef759",
   "metadata": {},
   "source": [
    "* **Medidas estadisticas**:"
   ]
  },
  {
   "cell_type": "code",
   "execution_count": 191,
   "id": "5ef1e2e4",
   "metadata": {},
   "outputs": [
    {
     "data": {
      "text/html": [
       "<div>\n",
       "<style scoped>\n",
       "    .dataframe tbody tr th:only-of-type {\n",
       "        vertical-align: middle;\n",
       "    }\n",
       "\n",
       "    .dataframe tbody tr th {\n",
       "        vertical-align: top;\n",
       "    }\n",
       "\n",
       "    .dataframe thead th {\n",
       "        text-align: right;\n",
       "    }\n",
       "</style>\n",
       "<table border=\"1\" class=\"dataframe\">\n",
       "  <thead>\n",
       "    <tr style=\"text-align: right;\">\n",
       "      <th></th>\n",
       "      <th># no cumple</th>\n",
       "    </tr>\n",
       "  </thead>\n",
       "  <tbody>\n",
       "    <tr>\n",
       "      <th>count</th>\n",
       "      <td>60.000000</td>\n",
       "    </tr>\n",
       "    <tr>\n",
       "      <th>mean</th>\n",
       "      <td>2.533333</td>\n",
       "    </tr>\n",
       "    <tr>\n",
       "      <th>std</th>\n",
       "      <td>1.826979</td>\n",
       "    </tr>\n",
       "    <tr>\n",
       "      <th>min</th>\n",
       "      <td>0.000000</td>\n",
       "    </tr>\n",
       "    <tr>\n",
       "      <th>25%</th>\n",
       "      <td>1.000000</td>\n",
       "    </tr>\n",
       "    <tr>\n",
       "      <th>50%</th>\n",
       "      <td>2.000000</td>\n",
       "    </tr>\n",
       "    <tr>\n",
       "      <th>75%</th>\n",
       "      <td>3.000000</td>\n",
       "    </tr>\n",
       "    <tr>\n",
       "      <th>max</th>\n",
       "      <td>8.000000</td>\n",
       "    </tr>\n",
       "  </tbody>\n",
       "</table>\n",
       "</div>"
      ],
      "text/plain": [
       "       # no cumple\n",
       "count    60.000000\n",
       "mean      2.533333\n",
       "std       1.826979\n",
       "min       0.000000\n",
       "25%       1.000000\n",
       "50%       2.000000\n",
       "75%       3.000000\n",
       "max       8.000000"
      ]
     },
     "execution_count": 191,
     "metadata": {},
     "output_type": "execute_result"
    }
   ],
   "source": [
    "df.describe()"
   ]
  },
  {
   "cell_type": "markdown",
   "id": "0c5cdf6d",
   "metadata": {},
   "source": [
    "* **Tamano**:"
   ]
  },
  {
   "cell_type": "markdown",
   "id": "af18f833",
   "metadata": {},
   "source": [
    "df.shape"
   ]
  },
  {
   "cell_type": "code",
   "execution_count": 192,
   "id": "211de5f5",
   "metadata": {},
   "outputs": [
    {
     "data": {
      "text/plain": [
       "# no cumple    int64\n",
       "dtype: object"
      ]
     },
     "execution_count": 192,
     "metadata": {},
     "output_type": "execute_result"
    }
   ],
   "source": [
    "df.dtypes"
   ]
  },
  {
   "cell_type": "markdown",
   "id": "92df83db",
   "metadata": {},
   "source": [
    "### Punto 1 \n",
    "Determine las frecuencias y las frecuencias relativas de los valores observados de x = número de transductores en un lote que no cumplen con las especificaciones."
   ]
  },
  {
   "cell_type": "markdown",
   "id": "6b9d0334",
   "metadata": {},
   "source": [
    "* **Tabla de frecuencias**:"
   ]
  },
  {
   "cell_type": "code",
   "execution_count": 193,
   "id": "da56816c",
   "metadata": {},
   "outputs": [
    {
     "data": {
      "text/plain": [
       "# no cumple\n",
       "0               7\n",
       "1              12\n",
       "2              13\n",
       "3              14\n",
       "4               6\n",
       "5               3\n",
       "6               3\n",
       "7               1\n",
       "8               1\n",
       "dtype: int64"
      ]
     },
     "execution_count": 193,
     "metadata": {},
     "output_type": "execute_result"
    }
   ],
   "source": [
    "freq = df.value_counts().sort_index()\n",
    "freq = freq.sort_index()\n",
    "freq"
   ]
  },
  {
   "cell_type": "markdown",
   "id": "a5b3b0f5",
   "metadata": {},
   "source": [
    "* **Tabla de frecuencias relativas**:"
   ]
  },
  {
   "cell_type": "code",
   "execution_count": 194,
   "id": "46c167a3",
   "metadata": {},
   "outputs": [
    {
     "data": {
      "text/plain": [
       "# no cumple\n",
       "3              0.233333\n",
       "2              0.216667\n",
       "1              0.200000\n",
       "0              0.116667\n",
       "4              0.100000\n",
       "5              0.050000\n",
       "6              0.050000\n",
       "7              0.016667\n",
       "8              0.016667\n",
       "dtype: float64"
      ]
     },
     "execution_count": 194,
     "metadata": {},
     "output_type": "execute_result"
    }
   ],
   "source": [
    "freq_rel = df.value_counts()/df.shape[0]\n",
    "freq_rel"
   ]
  },
  {
   "cell_type": "code",
   "execution_count": 195,
   "id": "4f29ee09",
   "metadata": {
    "scrolled": true
   },
   "outputs": [
    {
     "data": {
      "text/html": [
       "<div>\n",
       "<style scoped>\n",
       "    .dataframe tbody tr th:only-of-type {\n",
       "        vertical-align: middle;\n",
       "    }\n",
       "\n",
       "    .dataframe tbody tr th {\n",
       "        vertical-align: top;\n",
       "    }\n",
       "\n",
       "    .dataframe thead th {\n",
       "        text-align: right;\n",
       "    }\n",
       "</style>\n",
       "<table border=\"1\" class=\"dataframe\">\n",
       "  <thead>\n",
       "    <tr style=\"text-align: right;\">\n",
       "      <th></th>\n",
       "      <th>Frecuencia</th>\n",
       "      <th>Frec. Relativa</th>\n",
       "    </tr>\n",
       "    <tr>\n",
       "      <th># no cumple</th>\n",
       "      <th></th>\n",
       "      <th></th>\n",
       "    </tr>\n",
       "  </thead>\n",
       "  <tbody>\n",
       "    <tr>\n",
       "      <th>0</th>\n",
       "      <td>7</td>\n",
       "      <td>0.116667</td>\n",
       "    </tr>\n",
       "    <tr>\n",
       "      <th>1</th>\n",
       "      <td>12</td>\n",
       "      <td>0.200000</td>\n",
       "    </tr>\n",
       "    <tr>\n",
       "      <th>2</th>\n",
       "      <td>13</td>\n",
       "      <td>0.216667</td>\n",
       "    </tr>\n",
       "    <tr>\n",
       "      <th>3</th>\n",
       "      <td>14</td>\n",
       "      <td>0.233333</td>\n",
       "    </tr>\n",
       "    <tr>\n",
       "      <th>4</th>\n",
       "      <td>6</td>\n",
       "      <td>0.100000</td>\n",
       "    </tr>\n",
       "    <tr>\n",
       "      <th>5</th>\n",
       "      <td>3</td>\n",
       "      <td>0.050000</td>\n",
       "    </tr>\n",
       "    <tr>\n",
       "      <th>6</th>\n",
       "      <td>3</td>\n",
       "      <td>0.050000</td>\n",
       "    </tr>\n",
       "    <tr>\n",
       "      <th>7</th>\n",
       "      <td>1</td>\n",
       "      <td>0.016667</td>\n",
       "    </tr>\n",
       "    <tr>\n",
       "      <th>8</th>\n",
       "      <td>1</td>\n",
       "      <td>0.016667</td>\n",
       "    </tr>\n",
       "  </tbody>\n",
       "</table>\n",
       "</div>"
      ],
      "text/plain": [
       "             Frecuencia  Frec. Relativa\n",
       "# no cumple                            \n",
       "0                     7        0.116667\n",
       "1                    12        0.200000\n",
       "2                    13        0.216667\n",
       "3                    14        0.233333\n",
       "4                     6        0.100000\n",
       "5                     3        0.050000\n",
       "6                     3        0.050000\n",
       "7                     1        0.016667\n",
       "8                     1        0.016667"
      ]
     },
     "execution_count": 195,
     "metadata": {},
     "output_type": "execute_result"
    }
   ],
   "source": [
    "type(freq_rel)\n",
    "freq_rel.tolist()\n",
    "freq_info = { 'Frecuencia': freq, 'Frec. Relativa': freq_rel }\n",
    "df_freq = pd.DataFrame(freq_info)\n",
    "df_freq"
   ]
  },
  {
   "cell_type": "markdown",
   "id": "b942c984",
   "metadata": {},
   "source": [
    "### Punto 2\n",
    "¿Qué proporción de lotes muestreados tienen a lo sumo cinco transductores que no cumplen con las especificaciones? ¿Qué proporción tienen menos de cinco? ¿Qué proporción tienen por lo menos cinco unidades que no cumplen con las especificaciones?"
   ]
  },
  {
   "cell_type": "markdown",
   "id": "e1d5029f",
   "metadata": {},
   "source": [
    "* ¿Qué proporción de lotes muestreados tienen a lo sumo cinco transductores que no cumplen con las especificaciones? $x \\leq 5$"
   ]
  },
  {
   "cell_type": "code",
   "execution_count": 196,
   "id": "bdf33a8e",
   "metadata": {},
   "outputs": [
    {
     "data": {
      "text/plain": [
       "0.9166666666666667"
      ]
     },
     "execution_count": 196,
     "metadata": {},
     "output_type": "execute_result"
    }
   ],
   "source": [
    "freq_rel.iloc[0:6].sum()"
   ]
  },
  {
   "cell_type": "markdown",
   "id": "cc4320cf",
   "metadata": {},
   "source": [
    "* ¿Qué proporción tienen menos de cinco? $x < 5$"
   ]
  },
  {
   "cell_type": "code",
   "execution_count": 197,
   "id": "926354a6",
   "metadata": {},
   "outputs": [
    {
     "data": {
      "text/plain": [
       "0.8666666666666667"
      ]
     },
     "execution_count": 197,
     "metadata": {},
     "output_type": "execute_result"
    }
   ],
   "source": [
    "freq_rel.iloc[0:5].sum()"
   ]
  },
  {
   "cell_type": "markdown",
   "id": "8ea5466a",
   "metadata": {},
   "source": [
    "* ¿Qué proporción tienen por lo menos cinco unidades que no cumplen con las especificaciones? $x \\geq 5$"
   ]
  },
  {
   "cell_type": "code",
   "execution_count": 198,
   "id": "cb17b50b",
   "metadata": {},
   "outputs": [
    {
     "data": {
      "text/plain": [
       "0.13333333333333333"
      ]
     },
     "execution_count": 198,
     "metadata": {},
     "output_type": "execute_result"
    }
   ],
   "source": [
    "freq_rel.iloc[5:].sum() # 1 - freq_rel.iloc[0:5].sum()"
   ]
  },
  {
   "cell_type": "markdown",
   "id": "c46f9a21",
   "metadata": {},
   "source": [
    "### Punto 3\n",
    "\n",
    "Trace un histograma de los datos con la frecuencia relativa en la escala vertical y comente sus características."
   ]
  },
  {
   "cell_type": "code",
   "execution_count": 212,
   "id": "a7cd72da",
   "metadata": {},
   "outputs": [
    {
     "data": {
      "image/png": "[encoded data removed]",
      "text/plain": [
       "<Figure size 432x288 with 1 Axes>"
      ]
     },
     "metadata": {},
     "output_type": "display_data"
    }
   ],
   "source": [
    "df.hist(); # No es muy claro"
   ]
  },
  {
   "cell_type": "code",
   "execution_count": 211,
   "id": "c8da10d9",
   "metadata": {},
   "outputs": [
    {
     "data": {
      "image/png": "[encoded data removed]",
      "text/plain": [
       "<Figure size 432x288 with 1 Axes>"
      ]
     },
     "metadata": {},
     "output_type": "display_data"
    }
   ],
   "source": [
    "df.hist(bins=20);"
   ]
  },
  {
   "cell_type": "markdown",
   "id": "4d86cc75",
   "metadata": {},
   "source": [
    "### Punto 4\n",
    "Construya la grafica de caja."
   ]
  },
  {
   "cell_type": "code",
   "execution_count": 201,
   "id": "ce358ad9",
   "metadata": {},
   "outputs": [
    {
     "data": {
      "image/png": "[encoded data removed]",
      "text/plain": [
       "<Figure size 432x288 with 1 Axes>"
      ]
     },
     "metadata": {},
     "output_type": "display_data"
    }
   ],
   "source": [
    "sns.set_theme(style=\"whitegrid\")\n",
    "ax = sns.boxplot(x=df['# no cumple'])"
   ]
  },
  {
   "cell_type": "markdown",
   "id": "a77f8d69",
   "metadata": {},
   "source": [
    "### Resumen resultados"
   ]
  },
  {
   "cell_type": "code",
   "execution_count": 208,
   "id": "db72e7d5",
   "metadata": {},
   "outputs": [
    {
     "data": {
      "text/html": [
       "<div>\n",
       "<style scoped>\n",
       "    .dataframe tbody tr th:only-of-type {\n",
       "        vertical-align: middle;\n",
       "    }\n",
       "\n",
       "    .dataframe tbody tr th {\n",
       "        vertical-align: top;\n",
       "    }\n",
       "\n",
       "    .dataframe thead th {\n",
       "        text-align: right;\n",
       "    }\n",
       "</style>\n",
       "<table border=\"1\" class=\"dataframe\">\n",
       "  <thead>\n",
       "    <tr style=\"text-align: right;\">\n",
       "      <th></th>\n",
       "      <th># no cumple</th>\n",
       "    </tr>\n",
       "  </thead>\n",
       "  <tbody>\n",
       "    <tr>\n",
       "      <th>count</th>\n",
       "      <td>60.000000</td>\n",
       "    </tr>\n",
       "    <tr>\n",
       "      <th>mean</th>\n",
       "      <td>2.533333</td>\n",
       "    </tr>\n",
       "    <tr>\n",
       "      <th>std</th>\n",
       "      <td>1.826979</td>\n",
       "    </tr>\n",
       "    <tr>\n",
       "      <th>min</th>\n",
       "      <td>0.000000</td>\n",
       "    </tr>\n",
       "    <tr>\n",
       "      <th>25%</th>\n",
       "      <td>1.000000</td>\n",
       "    </tr>\n",
       "    <tr>\n",
       "      <th>50%</th>\n",
       "      <td>2.000000</td>\n",
       "    </tr>\n",
       "    <tr>\n",
       "      <th>75%</th>\n",
       "      <td>3.000000</td>\n",
       "    </tr>\n",
       "    <tr>\n",
       "      <th>max</th>\n",
       "      <td>8.000000</td>\n",
       "    </tr>\n",
       "  </tbody>\n",
       "</table>\n",
       "</div>"
      ],
      "text/plain": [
       "       # no cumple\n",
       "count    60.000000\n",
       "mean      2.533333\n",
       "std       1.826979\n",
       "min       0.000000\n",
       "25%       1.000000\n",
       "50%       2.000000\n",
       "75%       3.000000\n",
       "max       8.000000"
      ]
     },
     "execution_count": 208,
     "metadata": {},
     "output_type": "execute_result"
    }
   ],
   "source": [
    "df.describe()"
   ]
  },
  {
   "cell_type": "code",
   "execution_count": 209,
   "id": "2202f77c",
   "metadata": {},
   "outputs": [
    {
     "name": "stderr",
     "output_type": "stream",
     "text": [
      "C:\\Users\\Usuario\\anaconda3\\lib\\site-packages\\seaborn\\_decorators.py:36: FutureWarning:\n",
      "\n",
      "Pass the following variable as a keyword arg: x. From version 0.12, the only valid positional argument will be `data`, and passing other arguments without an explicit keyword will result in an error or misinterpretation.\n",
      "\n"
     ]
    },
    {
     "data": {
      "image/png": "[encoded data removed]",
      "text/plain": [
       "<Figure size 432x288 with 2 Axes>"
      ]
     },
     "metadata": {},
     "output_type": "display_data"
    }
   ],
   "source": [
    "f, (ax_hist, ax_box) = plt.subplots(2, sharex=True)\n",
    "sns.histplot(df, ax=ax_hist);\n",
    "sns.boxplot(df['# no cumple'], ax=ax_box);"
   ]
  },
  {
   "cell_type": "markdown",
   "id": "4e0a60ac",
   "metadata": {},
   "source": [
    "## Actividad\n",
    "\n",
    "**Edades de monedas de un centavo**. A continuación aparecen edades de 50 monedas de un\n",
    "centavo del ejercicio 1.45 y el conjunto de datos. Los datos se han ordenado de menor a mayor:\n",
    "\n",
    "```\n",
    "0 0 0 0 0 0 0 0 0 0\n",
    "0 0 1 1 1 1 1 1 2 2\n",
    "2 3 3 3 4 4 5 5 5 5\n",
    "6 8 9 9 10 16 17 17 19 19\n",
    "19 20 20 21 22 23 25 25 28 36\n",
    "```\n",
    "\n",
    "1. ¿Cuál es la edad promedio de los centavos?\n",
    "2. ¿Cuál es la edad mediana de los centavos?\n",
    "3. Construya una gráfica de caja para el conjunto de datos. "
   ]
  },
  {
   "cell_type": "markdown",
   "id": "d4a2fda1",
   "metadata": {},
   "source": [
    "## Referencias\n",
    "\n",
    "1. https://github.com/diplomado-bigdata-machinelearning-udea/Curso1/blob/master/s05/s05.ipynb\n",
    "2. https://towardsdatascience.com/smarter-ways-to-encode-categorical-data-for-machine-learning-part-1-of-3-6dca2f71b159"
   ]
  }
 ],
 "metadata": {
  "kernelspec": {
   "display_name": "Python 3",
   "language": "python",
   "name": "python3"
  },
  "language_info": {
   "codemirror_mode": {
    "name": "ipython",
    "version": 3
   },
   "file_extension": ".py",
   "mimetype": "text/x-python",
   "name": "python",
   "nbconvert_exporter": "python",
   "pygments_lexer": "ipython3",
   "version": "3.8.8"
  }
 },
 "nbformat": 4,
 "nbformat_minor": 5
}
