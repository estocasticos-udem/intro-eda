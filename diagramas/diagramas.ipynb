{
 "cells": [
  {
   "cell_type": "code",
   "execution_count": 137,
   "id": "faaf9339",
   "metadata": {},
   "outputs": [],
   "source": [
    "import numpy as np\n",
    "import pandas as pd\n",
    "from scipy.stats import trim_mean\n",
    "import matplotlib.pyplot as plt\n",
    "import seaborn as sns"
   ]
  },
  {
   "cell_type": "markdown",
   "id": "3e61f3de",
   "metadata": {},
   "source": [
    "# Diagramas\n",
    "\n",
    "En la estadistica es muy común el uso de representaciones visuales para mostrar el comportamiendo de los datos, las cuales seran mostradas a continuación."
   ]
  },
  {
   "cell_type": "markdown",
   "id": "9607f9f4",
   "metadata": {},
   "source": [
    "## Numericas"
   ]
  },
  {
   "cell_type": "markdown",
   "id": "7b9bc55d",
   "metadata": {},
   "source": [
    "### Histogramas\n",
    "\n",
    "Un histograma es una representación gráfica de una variable en forma de barras en la cual la superficie de la barra es proporsional a la frecuencia de los valores representados. Son utiles por que sirven para obtener un panorama general de la forma como se distribuyen los datos. La construcción de un histograms depende del tipo de datos que se esten empleando (discretos o continuos) tal y como de describe a continuación:\n",
    "* **Variable discreta**: En primer lugar, se determinan la frecuencia y la frecuencia relativa de cada valor x. Luego se marcan los valores x posibles en una escala horizontal. Sobre cada valor se traza un rectángulo cuya altura es la frecuencia relativa (o alternativamente, la frecuencia) de dicho valor: Los rectángulos deben medir lo mismo de ancho.\n",
    "* **Variable Continua**: En este caso, se divide el el eje de medición entre un número adecuado de **intervalos de clase** o **clases**. Cuando el ancho de las clases es el mismo, lo que se hace es determinar la frecuencia y la frecuencia relativa de cada clase contando la cantidad de muestras que se encuentran dentro de cada intervalo y usando frecuencia relativa como la altura del correspondiente intervalo."
   ]
  },
  {
   "cell_type": "markdown",
   "id": "d245104b",
   "metadata": {},
   "source": [
    "#### Ejemplo 1\n",
    "\n",
    "El artículo \"Determination of Most Representative Subdivision\" (J. of Energy Engr., 1993: 43-55) proporciona datos sobre varias características de subdivisiones que podrían utilizarse para decidir si se suministra energía eléctrica mediante líneas elevadas o por medio de líneas subterráneas. He aquí los valores de la variable *x = longitud total de calles dentro de\n",
    "una subdivisión*:\n",
    "\n",
    "```\n",
    "1280 5320 4390 2100 1240 3060 4770\n",
    "1050 360 3330 3380 340 1000 960\n",
    "1320 530 3350 540 3870 1250 2400\n",
    "960 1120 2120 450 2250 2320 2400\n",
    "3150 5700 5220 500 1850 2460 5850\n",
    "2700 2730 1670 100 5770 3150 1890\n",
    "510 240 396 1419 2109\n",
    "```\n",
    "\n",
    "1. Construya un histograma con los límites de clase, 0, 1000, 2000, 3000, 4000, 5000 y 6000."
   ]
  },
  {
   "cell_type": "markdown",
   "id": "478c7bf8",
   "metadata": {},
   "source": [
    "* **Solución empleando matplotlib**"
   ]
  },
  {
   "cell_type": "code",
   "execution_count": 138,
   "id": "e69daa7a",
   "metadata": {},
   "outputs": [
    {
     "name": "stdout",
     "output_type": "stream",
     "text": [
      "[1280, 5320, 4390, 2100, 1240, 3060, 4770, 1050, 360, 3330, 3380, 340, 1000, 960, 1320, 530, 3350, 540, 3870, 1250, 2400, 960, 1120, 2120, 450, 2250, 2320, 2400, 3150, 5700, 5220, 500, 1850, 2460, 5850, 2700, 2730, 1670, 100, 5770, 3150, 1890, 510, 240, 396, 1419, 2109]\n"
     ]
    }
   ],
   "source": [
    "# Usando Numpy\n",
    "# Creacion de la tabla\n",
    "data = [1280, 5320, 4390, 2100, 1240, 3060, 4770, 1050, 360, 3330, 3380, 340, 1000, 960,\n",
    "        1320, 530, 3350, 540, 3870, 1250, 2400, 960, 1120, 2120, 450, 2250, 2320, 2400, \n",
    "        3150, 5700, 5220, 500, 1850, 2460, 5850, 2700, 2730, 1670, 100, 5770, 3150, 1890,\n",
    "        510, 240, 396, 1419, 2109]\n",
    "print(data)"
   ]
  },
  {
   "cell_type": "code",
   "execution_count": 139,
   "id": "25e3b7a0",
   "metadata": {},
   "outputs": [
    {
     "data": {
      "text/plain": [
       "(array([12, 11, 10,  7,  2,  5], dtype=int64),\n",
       " array([   0., 1000., 2000., 3000., 4000., 5000., 6000.]))"
      ]
     },
     "execution_count": 139,
     "metadata": {},
     "output_type": "execute_result"
    }
   ],
   "source": [
    "hist = np.histogram(data, bins=6, range=(0,6000))\n",
    "hist"
   ]
  },
  {
   "cell_type": "code",
   "execution_count": 140,
   "id": "05bfef2b",
   "metadata": {},
   "outputs": [
    {
     "data": {
      "image/png": "[encoded data removed]",
      "text/plain": [
       "<Figure size 432x288 with 1 Axes>"
      ]
     },
     "metadata": {
      "needs_background": "light"
     },
     "output_type": "display_data"
    }
   ],
   "source": [
    "plt.title('Histograma de longitud total de calles dentro de una subdivisión')\n",
    "plt.grid(True)\n",
    "plt.hist(data, bins=6, range=(0,6000));\n"
   ]
  },
  {
   "cell_type": "markdown",
   "id": "87c6d0dd",
   "metadata": {},
   "source": [
    "* **Solución empleando pandas**"
   ]
  },
  {
   "cell_type": "code",
   "execution_count": 141,
   "id": "9807b302",
   "metadata": {},
   "outputs": [
    {
     "data": {
      "text/html": [
       "<div>\n",
       "<style scoped>\n",
       "    .dataframe tbody tr th:only-of-type {\n",
       "        vertical-align: middle;\n",
       "    }\n",
       "\n",
       "    .dataframe tbody tr th {\n",
       "        vertical-align: top;\n",
       "    }\n",
       "\n",
       "    .dataframe thead th {\n",
       "        text-align: right;\n",
       "    }\n",
       "</style>\n",
       "<table border=\"1\" class=\"dataframe\">\n",
       "  <thead>\n",
       "    <tr style=\"text-align: right;\">\n",
       "      <th></th>\n",
       "      <th>data</th>\n",
       "    </tr>\n",
       "  </thead>\n",
       "  <tbody>\n",
       "    <tr>\n",
       "      <th>0</th>\n",
       "      <td>1280</td>\n",
       "    </tr>\n",
       "    <tr>\n",
       "      <th>1</th>\n",
       "      <td>5320</td>\n",
       "    </tr>\n",
       "    <tr>\n",
       "      <th>2</th>\n",
       "      <td>4390</td>\n",
       "    </tr>\n",
       "    <tr>\n",
       "      <th>3</th>\n",
       "      <td>2100</td>\n",
       "    </tr>\n",
       "    <tr>\n",
       "      <th>4</th>\n",
       "      <td>1240</td>\n",
       "    </tr>\n",
       "    <tr>\n",
       "      <th>5</th>\n",
       "      <td>3060</td>\n",
       "    </tr>\n",
       "    <tr>\n",
       "      <th>6</th>\n",
       "      <td>4770</td>\n",
       "    </tr>\n",
       "    <tr>\n",
       "      <th>7</th>\n",
       "      <td>1050</td>\n",
       "    </tr>\n",
       "    <tr>\n",
       "      <th>8</th>\n",
       "      <td>360</td>\n",
       "    </tr>\n",
       "    <tr>\n",
       "      <th>9</th>\n",
       "      <td>3330</td>\n",
       "    </tr>\n",
       "    <tr>\n",
       "      <th>10</th>\n",
       "      <td>3380</td>\n",
       "    </tr>\n",
       "    <tr>\n",
       "      <th>11</th>\n",
       "      <td>340</td>\n",
       "    </tr>\n",
       "    <tr>\n",
       "      <th>12</th>\n",
       "      <td>1000</td>\n",
       "    </tr>\n",
       "    <tr>\n",
       "      <th>13</th>\n",
       "      <td>960</td>\n",
       "    </tr>\n",
       "    <tr>\n",
       "      <th>14</th>\n",
       "      <td>1320</td>\n",
       "    </tr>\n",
       "    <tr>\n",
       "      <th>15</th>\n",
       "      <td>530</td>\n",
       "    </tr>\n",
       "    <tr>\n",
       "      <th>16</th>\n",
       "      <td>3350</td>\n",
       "    </tr>\n",
       "    <tr>\n",
       "      <th>17</th>\n",
       "      <td>540</td>\n",
       "    </tr>\n",
       "    <tr>\n",
       "      <th>18</th>\n",
       "      <td>3870</td>\n",
       "    </tr>\n",
       "    <tr>\n",
       "      <th>19</th>\n",
       "      <td>1250</td>\n",
       "    </tr>\n",
       "    <tr>\n",
       "      <th>20</th>\n",
       "      <td>2400</td>\n",
       "    </tr>\n",
       "    <tr>\n",
       "      <th>21</th>\n",
       "      <td>960</td>\n",
       "    </tr>\n",
       "    <tr>\n",
       "      <th>22</th>\n",
       "      <td>1120</td>\n",
       "    </tr>\n",
       "    <tr>\n",
       "      <th>23</th>\n",
       "      <td>2120</td>\n",
       "    </tr>\n",
       "    <tr>\n",
       "      <th>24</th>\n",
       "      <td>450</td>\n",
       "    </tr>\n",
       "    <tr>\n",
       "      <th>25</th>\n",
       "      <td>2250</td>\n",
       "    </tr>\n",
       "    <tr>\n",
       "      <th>26</th>\n",
       "      <td>2320</td>\n",
       "    </tr>\n",
       "    <tr>\n",
       "      <th>27</th>\n",
       "      <td>2400</td>\n",
       "    </tr>\n",
       "    <tr>\n",
       "      <th>28</th>\n",
       "      <td>3150</td>\n",
       "    </tr>\n",
       "    <tr>\n",
       "      <th>29</th>\n",
       "      <td>5700</td>\n",
       "    </tr>\n",
       "    <tr>\n",
       "      <th>30</th>\n",
       "      <td>5220</td>\n",
       "    </tr>\n",
       "    <tr>\n",
       "      <th>31</th>\n",
       "      <td>500</td>\n",
       "    </tr>\n",
       "    <tr>\n",
       "      <th>32</th>\n",
       "      <td>1850</td>\n",
       "    </tr>\n",
       "    <tr>\n",
       "      <th>33</th>\n",
       "      <td>2460</td>\n",
       "    </tr>\n",
       "    <tr>\n",
       "      <th>34</th>\n",
       "      <td>5850</td>\n",
       "    </tr>\n",
       "    <tr>\n",
       "      <th>35</th>\n",
       "      <td>2700</td>\n",
       "    </tr>\n",
       "    <tr>\n",
       "      <th>36</th>\n",
       "      <td>2730</td>\n",
       "    </tr>\n",
       "    <tr>\n",
       "      <th>37</th>\n",
       "      <td>1670</td>\n",
       "    </tr>\n",
       "    <tr>\n",
       "      <th>38</th>\n",
       "      <td>100</td>\n",
       "    </tr>\n",
       "    <tr>\n",
       "      <th>39</th>\n",
       "      <td>5770</td>\n",
       "    </tr>\n",
       "    <tr>\n",
       "      <th>40</th>\n",
       "      <td>3150</td>\n",
       "    </tr>\n",
       "    <tr>\n",
       "      <th>41</th>\n",
       "      <td>1890</td>\n",
       "    </tr>\n",
       "    <tr>\n",
       "      <th>42</th>\n",
       "      <td>510</td>\n",
       "    </tr>\n",
       "    <tr>\n",
       "      <th>43</th>\n",
       "      <td>240</td>\n",
       "    </tr>\n",
       "    <tr>\n",
       "      <th>44</th>\n",
       "      <td>396</td>\n",
       "    </tr>\n",
       "    <tr>\n",
       "      <th>45</th>\n",
       "      <td>1419</td>\n",
       "    </tr>\n",
       "    <tr>\n",
       "      <th>46</th>\n",
       "      <td>2109</td>\n",
       "    </tr>\n",
       "  </tbody>\n",
       "</table>\n",
       "</div>"
      ],
      "text/plain": [
       "    data\n",
       "0   1280\n",
       "1   5320\n",
       "2   4390\n",
       "3   2100\n",
       "4   1240\n",
       "5   3060\n",
       "6   4770\n",
       "7   1050\n",
       "8    360\n",
       "9   3330\n",
       "10  3380\n",
       "11   340\n",
       "12  1000\n",
       "13   960\n",
       "14  1320\n",
       "15   530\n",
       "16  3350\n",
       "17   540\n",
       "18  3870\n",
       "19  1250\n",
       "20  2400\n",
       "21   960\n",
       "22  1120\n",
       "23  2120\n",
       "24   450\n",
       "25  2250\n",
       "26  2320\n",
       "27  2400\n",
       "28  3150\n",
       "29  5700\n",
       "30  5220\n",
       "31   500\n",
       "32  1850\n",
       "33  2460\n",
       "34  5850\n",
       "35  2700\n",
       "36  2730\n",
       "37  1670\n",
       "38   100\n",
       "39  5770\n",
       "40  3150\n",
       "41  1890\n",
       "42   510\n",
       "43   240\n",
       "44   396\n",
       "45  1419\n",
       "46  2109"
      ]
     },
     "execution_count": 141,
     "metadata": {},
     "output_type": "execute_result"
    }
   ],
   "source": [
    "df = pd.DataFrame({'data':[1280, 5320, 4390, 2100, 1240, 3060, 4770, 1050, 360, 3330, 3380, 340, 1000, 960,\n",
    "        1320, 530, 3350, 540, 3870, 1250, 2400, 960, 1120, 2120, 450, 2250, 2320, 2400, \n",
    "        3150, 5700, 5220, 500, 1850, 2460, 5850, 2700, 2730, 1670, 100, 5770, 3150, 1890,\n",
    "        510, 240, 396, 1419, 2109]})\n",
    "df"
   ]
  },
  {
   "cell_type": "code",
   "execution_count": 142,
   "id": "bc3c9a5d",
   "metadata": {},
   "outputs": [
    {
     "data": {
      "text/html": [
       "<div>\n",
       "<style scoped>\n",
       "    .dataframe tbody tr th:only-of-type {\n",
       "        vertical-align: middle;\n",
       "    }\n",
       "\n",
       "    .dataframe tbody tr th {\n",
       "        vertical-align: top;\n",
       "    }\n",
       "\n",
       "    .dataframe thead th {\n",
       "        text-align: right;\n",
       "    }\n",
       "</style>\n",
       "<table border=\"1\" class=\"dataframe\">\n",
       "  <thead>\n",
       "    <tr style=\"text-align: right;\">\n",
       "      <th></th>\n",
       "      <th>data</th>\n",
       "    </tr>\n",
       "  </thead>\n",
       "  <tbody>\n",
       "    <tr>\n",
       "      <th>count</th>\n",
       "      <td>47.000000</td>\n",
       "    </tr>\n",
       "    <tr>\n",
       "      <th>mean</th>\n",
       "      <td>2231.361702</td>\n",
       "    </tr>\n",
       "    <tr>\n",
       "      <th>std</th>\n",
       "      <td>1634.114112</td>\n",
       "    </tr>\n",
       "    <tr>\n",
       "      <th>min</th>\n",
       "      <td>100.000000</td>\n",
       "    </tr>\n",
       "    <tr>\n",
       "      <th>25%</th>\n",
       "      <td>980.000000</td>\n",
       "    </tr>\n",
       "    <tr>\n",
       "      <th>50%</th>\n",
       "      <td>2100.000000</td>\n",
       "    </tr>\n",
       "    <tr>\n",
       "      <th>75%</th>\n",
       "      <td>3150.000000</td>\n",
       "    </tr>\n",
       "    <tr>\n",
       "      <th>max</th>\n",
       "      <td>5850.000000</td>\n",
       "    </tr>\n",
       "  </tbody>\n",
       "</table>\n",
       "</div>"
      ],
      "text/plain": [
       "              data\n",
       "count    47.000000\n",
       "mean   2231.361702\n",
       "std    1634.114112\n",
       "min     100.000000\n",
       "25%     980.000000\n",
       "50%    2100.000000\n",
       "75%    3150.000000\n",
       "max    5850.000000"
      ]
     },
     "execution_count": 142,
     "metadata": {},
     "output_type": "execute_result"
    }
   ],
   "source": [
    "df.describe()"
   ]
  },
  {
   "cell_type": "code",
   "execution_count": 143,
   "id": "3764d7e6",
   "metadata": {},
   "outputs": [],
   "source": [
    "clases = pd.IntervalIndex.from_tuples([(0, 1000), (1000, 2000) ,(2000, 3000), (3000, 4000), (4000, 5000), (5000, 6000)])\n",
    "hist = pd.cut(df['data'], bins = clases)"
   ]
  },
  {
   "cell_type": "code",
   "execution_count": 144,
   "id": "0f1404d6",
   "metadata": {},
   "outputs": [
    {
     "data": {
      "text/plain": [
       "0     (1000, 2000]\n",
       "1     (5000, 6000]\n",
       "2     (4000, 5000]\n",
       "3     (2000, 3000]\n",
       "4     (1000, 2000]\n",
       "5     (3000, 4000]\n",
       "6     (4000, 5000]\n",
       "7     (1000, 2000]\n",
       "8        (0, 1000]\n",
       "9     (3000, 4000]\n",
       "10    (3000, 4000]\n",
       "11       (0, 1000]\n",
       "12       (0, 1000]\n",
       "13       (0, 1000]\n",
       "14    (1000, 2000]\n",
       "15       (0, 1000]\n",
       "16    (3000, 4000]\n",
       "17       (0, 1000]\n",
       "18    (3000, 4000]\n",
       "19    (1000, 2000]\n",
       "20    (2000, 3000]\n",
       "21       (0, 1000]\n",
       "22    (1000, 2000]\n",
       "23    (2000, 3000]\n",
       "24       (0, 1000]\n",
       "25    (2000, 3000]\n",
       "26    (2000, 3000]\n",
       "27    (2000, 3000]\n",
       "28    (3000, 4000]\n",
       "29    (5000, 6000]\n",
       "30    (5000, 6000]\n",
       "31       (0, 1000]\n",
       "32    (1000, 2000]\n",
       "33    (2000, 3000]\n",
       "34    (5000, 6000]\n",
       "35    (2000, 3000]\n",
       "36    (2000, 3000]\n",
       "37    (1000, 2000]\n",
       "38       (0, 1000]\n",
       "39    (5000, 6000]\n",
       "40    (3000, 4000]\n",
       "41    (1000, 2000]\n",
       "42       (0, 1000]\n",
       "43       (0, 1000]\n",
       "44       (0, 1000]\n",
       "45    (1000, 2000]\n",
       "46    (2000, 3000]\n",
       "Name: data, dtype: category\n",
       "Categories (6, interval[int64, right]): [(0, 1000] < (1000, 2000] < (2000, 3000] < (3000, 4000] < (4000, 5000] < (5000, 6000]]"
      ]
     },
     "execution_count": 144,
     "metadata": {},
     "output_type": "execute_result"
    }
   ],
   "source": [
    "hist"
   ]
  },
  {
   "cell_type": "code",
   "execution_count": 145,
   "id": "9b962266",
   "metadata": {},
   "outputs": [
    {
     "data": {
      "text/plain": [
       "(0, 1000]       13\n",
       "(1000, 2000]    10\n",
       "(2000, 3000]    10\n",
       "(3000, 4000]     7\n",
       "(5000, 6000]     5\n",
       "(4000, 5000]     2\n",
       "Name: data, dtype: int64"
      ]
     },
     "execution_count": 145,
     "metadata": {},
     "output_type": "execute_result"
    }
   ],
   "source": [
    "freq_rel = hist.value_counts()\n",
    "freq_rel"
   ]
  },
  {
   "cell_type": "code",
   "execution_count": 146,
   "id": "e67f6091",
   "metadata": {},
   "outputs": [
    {
     "data": {
      "text/html": [
       "<div>\n",
       "<style scoped>\n",
       "    .dataframe tbody tr th:only-of-type {\n",
       "        vertical-align: middle;\n",
       "    }\n",
       "\n",
       "    .dataframe tbody tr th {\n",
       "        vertical-align: top;\n",
       "    }\n",
       "\n",
       "    .dataframe thead th {\n",
       "        text-align: right;\n",
       "    }\n",
       "</style>\n",
       "<table border=\"1\" class=\"dataframe\">\n",
       "  <thead>\n",
       "    <tr style=\"text-align: right;\">\n",
       "      <th></th>\n",
       "      <th>intervals</th>\n",
       "      <th>freq_relativa</th>\n",
       "    </tr>\n",
       "  </thead>\n",
       "  <tbody>\n",
       "    <tr>\n",
       "      <th>(0, 1000]</th>\n",
       "      <td>[0, 1000]</td>\n",
       "      <td>13</td>\n",
       "    </tr>\n",
       "    <tr>\n",
       "      <th>(1000, 2000]</th>\n",
       "      <td>(1000, 2000]</td>\n",
       "      <td>10</td>\n",
       "    </tr>\n",
       "    <tr>\n",
       "      <th>(2000, 3000]</th>\n",
       "      <td>(2000, 3000]</td>\n",
       "      <td>10</td>\n",
       "    </tr>\n",
       "    <tr>\n",
       "      <th>(3000, 4000]</th>\n",
       "      <td>(3000, 4000]</td>\n",
       "      <td>7</td>\n",
       "    </tr>\n",
       "    <tr>\n",
       "      <th>(5000, 6000]</th>\n",
       "      <td>(4000, 5000]</td>\n",
       "      <td>5</td>\n",
       "    </tr>\n",
       "    <tr>\n",
       "      <th>(4000, 5000]</th>\n",
       "      <td>(5000, 6000]</td>\n",
       "      <td>2</td>\n",
       "    </tr>\n",
       "  </tbody>\n",
       "</table>\n",
       "</div>"
      ],
      "text/plain": [
       "                 intervals  freq_relativa\n",
       "(0, 1000]        [0, 1000]             13\n",
       "(1000, 2000]  (1000, 2000]             10\n",
       "(2000, 3000]  (2000, 3000]             10\n",
       "(3000, 4000]  (3000, 4000]              7\n",
       "(5000, 6000]  (4000, 5000]              5\n",
       "(4000, 5000]  (5000, 6000]              2"
      ]
     },
     "execution_count": 146,
     "metadata": {},
     "output_type": "execute_result"
    }
   ],
   "source": [
    "df_hist = pd.DataFrame({'intervals' : ['[0, 1000]','(1000, 2000]','(2000, 3000]','(3000, 4000]','(4000, 5000]','(5000, 6000]'],\n",
    "                        'freq_relativa': freq_rel})\n",
    "df_hist"
   ]
  },
  {
   "cell_type": "code",
   "execution_count": 147,
   "id": "aaed88cb",
   "metadata": {},
   "outputs": [
    {
     "data": {
      "image/png": "[encoded data removed]",
      "text/plain": [
       "<Figure size 432x288 with 1 Axes>"
      ]
     },
     "metadata": {
      "needs_background": "light"
     },
     "output_type": "display_data"
    }
   ],
   "source": [
    "df_hist.plot(kind='bar', title ='Histograma de longitud total de calles dentro de una subdivisión');"
   ]
  },
  {
   "cell_type": "markdown",
   "id": "b3bc10cb",
   "metadata": {},
   "source": [
    "* **Solución empleando seaborn**"
   ]
  },
  {
   "cell_type": "code",
   "execution_count": 148,
   "id": "73c88e01",
   "metadata": {},
   "outputs": [
    {
     "data": {
      "text/plain": [
       "<AxesSubplot:ylabel='Count'>"
      ]
     },
     "execution_count": 148,
     "metadata": {},
     "output_type": "execute_result"
    },
    {
     "data": {
      "image/png": "[encoded data removed]",
      "text/plain": [
       "<Figure size 432x288 with 1 Axes>"
      ]
     },
     "metadata": {
      "needs_background": "light"
     },
     "output_type": "display_data"
    }
   ],
   "source": [
    "sns.histplot(data,bins=[0,1000,2000,3000,4000,5000,6000])"
   ]
  },
  {
   "cell_type": "markdown",
   "id": "d97d02d7",
   "metadata": {},
   "source": [
    "#### Ejemplo 2\n",
    "\n",
    "Los siguientes datos muestran la cantidad de horas dedicadas a jugar juegos de video de un grupo de estudiantes.\n",
    "\n",
    "```\n",
    "9.95  10  2.25  16.75  0\n",
    "19.5  22.5  7.5  15  12.75\n",
    "5.5  11\t 10  20.75  17.5\n",
    "23  21.9  24  23.75  18\n",
    "20  15  22.9  18.8  20.5\n",
    "```\n",
    "\n",
    "Construya un histograma agrupando los datos en cinco clases"
   ]
  },
  {
   "cell_type": "markdown",
   "id": "5edee71c",
   "metadata": {},
   "source": [
    "* **Solución empleando matplotlib**"
   ]
  },
  {
   "cell_type": "code",
   "execution_count": 149,
   "id": "ea87c400",
   "metadata": {},
   "outputs": [
    {
     "data": {
      "text/plain": [
       "array([ 9.95, 10.  ,  2.25, 16.75,  0.  , 19.5 , 22.5 ,  7.5 , 15.  ,\n",
       "       12.75,  5.5 , 11.  , 10.  , 20.75, 17.5 , 23.  , 21.9 , 24.  ,\n",
       "       23.75, 18.  , 20.  , 15.  , 22.9 , 18.8 , 20.5 ])"
      ]
     },
     "execution_count": 149,
     "metadata": {},
     "output_type": "execute_result"
    }
   ],
   "source": [
    "# Usando Numpy\n",
    "# Creacion de la tabla\n",
    "data = np.array([9.95, 10, 2.25, 16.75, 0, 19.5, 22.5, 7.5, 15, 12.75,\n",
    "        5.5, 11, 10, 20.75, 17.5, 23, 21.9, 24, 23.75, 18,\n",
    "        20, 15, 22.9, 18.8, 20.5])\n",
    "data"
   ]
  },
  {
   "cell_type": "code",
   "execution_count": 150,
   "id": "ac258b3f",
   "metadata": {},
   "outputs": [
    {
     "data": {
      "text/plain": [
       "(array([ 2,  2,  5,  6, 10], dtype=int64),\n",
       " array([ 0. ,  4.8,  9.6, 14.4, 19.2, 24. ]))"
      ]
     },
     "execution_count": 150,
     "metadata": {},
     "output_type": "execute_result"
    }
   ],
   "source": [
    "hist = np.histogram(data, bins=5)\n",
    "hist"
   ]
  },
  {
   "cell_type": "code",
   "execution_count": 151,
   "id": "02cca19f",
   "metadata": {},
   "outputs": [
    {
     "data": {
      "image/png": "[encoded data removed]",
      "text/plain": [
       "<Figure size 432x288 with 1 Axes>"
      ]
     },
     "metadata": {
      "needs_background": "light"
     },
     "output_type": "display_data"
    }
   ],
   "source": [
    "plt.title('Histograma')\n",
    "plt.grid(True)\n",
    "plt.hist(data, bins=5);"
   ]
  },
  {
   "cell_type": "markdown",
   "id": "57fe4f76",
   "metadata": {},
   "source": [
    "* **Solucion empleando pandas**"
   ]
  },
  {
   "cell_type": "code",
   "execution_count": 152,
   "id": "10c1aeeb",
   "metadata": {},
   "outputs": [
    {
     "data": {
      "text/html": [
       "<div>\n",
       "<style scoped>\n",
       "    .dataframe tbody tr th:only-of-type {\n",
       "        vertical-align: middle;\n",
       "    }\n",
       "\n",
       "    .dataframe tbody tr th {\n",
       "        vertical-align: top;\n",
       "    }\n",
       "\n",
       "    .dataframe thead th {\n",
       "        text-align: right;\n",
       "    }\n",
       "</style>\n",
       "<table border=\"1\" class=\"dataframe\">\n",
       "  <thead>\n",
       "    <tr style=\"text-align: right;\">\n",
       "      <th></th>\n",
       "      <th>data</th>\n",
       "    </tr>\n",
       "  </thead>\n",
       "  <tbody>\n",
       "    <tr>\n",
       "      <th>0</th>\n",
       "      <td>9.95</td>\n",
       "    </tr>\n",
       "    <tr>\n",
       "      <th>1</th>\n",
       "      <td>10.00</td>\n",
       "    </tr>\n",
       "    <tr>\n",
       "      <th>2</th>\n",
       "      <td>2.25</td>\n",
       "    </tr>\n",
       "    <tr>\n",
       "      <th>3</th>\n",
       "      <td>16.75</td>\n",
       "    </tr>\n",
       "    <tr>\n",
       "      <th>4</th>\n",
       "      <td>0.00</td>\n",
       "    </tr>\n",
       "    <tr>\n",
       "      <th>5</th>\n",
       "      <td>19.50</td>\n",
       "    </tr>\n",
       "    <tr>\n",
       "      <th>6</th>\n",
       "      <td>22.50</td>\n",
       "    </tr>\n",
       "    <tr>\n",
       "      <th>7</th>\n",
       "      <td>7.50</td>\n",
       "    </tr>\n",
       "    <tr>\n",
       "      <th>8</th>\n",
       "      <td>15.00</td>\n",
       "    </tr>\n",
       "    <tr>\n",
       "      <th>9</th>\n",
       "      <td>12.75</td>\n",
       "    </tr>\n",
       "    <tr>\n",
       "      <th>10</th>\n",
       "      <td>5.50</td>\n",
       "    </tr>\n",
       "    <tr>\n",
       "      <th>11</th>\n",
       "      <td>11.00</td>\n",
       "    </tr>\n",
       "    <tr>\n",
       "      <th>12</th>\n",
       "      <td>10.00</td>\n",
       "    </tr>\n",
       "    <tr>\n",
       "      <th>13</th>\n",
       "      <td>20.75</td>\n",
       "    </tr>\n",
       "    <tr>\n",
       "      <th>14</th>\n",
       "      <td>17.50</td>\n",
       "    </tr>\n",
       "    <tr>\n",
       "      <th>15</th>\n",
       "      <td>23.00</td>\n",
       "    </tr>\n",
       "    <tr>\n",
       "      <th>16</th>\n",
       "      <td>21.90</td>\n",
       "    </tr>\n",
       "    <tr>\n",
       "      <th>17</th>\n",
       "      <td>24.00</td>\n",
       "    </tr>\n",
       "    <tr>\n",
       "      <th>18</th>\n",
       "      <td>23.75</td>\n",
       "    </tr>\n",
       "    <tr>\n",
       "      <th>19</th>\n",
       "      <td>18.00</td>\n",
       "    </tr>\n",
       "    <tr>\n",
       "      <th>20</th>\n",
       "      <td>20.00</td>\n",
       "    </tr>\n",
       "    <tr>\n",
       "      <th>21</th>\n",
       "      <td>15.00</td>\n",
       "    </tr>\n",
       "    <tr>\n",
       "      <th>22</th>\n",
       "      <td>22.90</td>\n",
       "    </tr>\n",
       "    <tr>\n",
       "      <th>23</th>\n",
       "      <td>18.80</td>\n",
       "    </tr>\n",
       "    <tr>\n",
       "      <th>24</th>\n",
       "      <td>20.50</td>\n",
       "    </tr>\n",
       "  </tbody>\n",
       "</table>\n",
       "</div>"
      ],
      "text/plain": [
       "     data\n",
       "0    9.95\n",
       "1   10.00\n",
       "2    2.25\n",
       "3   16.75\n",
       "4    0.00\n",
       "5   19.50\n",
       "6   22.50\n",
       "7    7.50\n",
       "8   15.00\n",
       "9   12.75\n",
       "10   5.50\n",
       "11  11.00\n",
       "12  10.00\n",
       "13  20.75\n",
       "14  17.50\n",
       "15  23.00\n",
       "16  21.90\n",
       "17  24.00\n",
       "18  23.75\n",
       "19  18.00\n",
       "20  20.00\n",
       "21  15.00\n",
       "22  22.90\n",
       "23  18.80\n",
       "24  20.50"
      ]
     },
     "execution_count": 152,
     "metadata": {},
     "output_type": "execute_result"
    }
   ],
   "source": [
    "df = pd.DataFrame({'data':[9.95, 10, 2.25, 16.75, 0, 19.5, 22.5, 7.5, 15, 12.75,\n",
    "        5.5, 11, 10, 20.75, 17.5, 23, 21.9, 24, 23.75, 18,\n",
    "        20, 15, 22.9, 18.8, 20.5]})\n",
    "df"
   ]
  },
  {
   "cell_type": "code",
   "execution_count": 153,
   "id": "9f5feeea",
   "metadata": {},
   "outputs": [
    {
     "data": {
      "text/html": [
       "<div>\n",
       "<style scoped>\n",
       "    .dataframe tbody tr th:only-of-type {\n",
       "        vertical-align: middle;\n",
       "    }\n",
       "\n",
       "    .dataframe tbody tr th {\n",
       "        vertical-align: top;\n",
       "    }\n",
       "\n",
       "    .dataframe thead th {\n",
       "        text-align: right;\n",
       "    }\n",
       "</style>\n",
       "<table border=\"1\" class=\"dataframe\">\n",
       "  <thead>\n",
       "    <tr style=\"text-align: right;\">\n",
       "      <th></th>\n",
       "      <th>data</th>\n",
       "    </tr>\n",
       "  </thead>\n",
       "  <tbody>\n",
       "    <tr>\n",
       "      <th>count</th>\n",
       "      <td>25.000000</td>\n",
       "    </tr>\n",
       "    <tr>\n",
       "      <th>mean</th>\n",
       "      <td>15.552000</td>\n",
       "    </tr>\n",
       "    <tr>\n",
       "      <th>std</th>\n",
       "      <td>6.928677</td>\n",
       "    </tr>\n",
       "    <tr>\n",
       "      <th>min</th>\n",
       "      <td>0.000000</td>\n",
       "    </tr>\n",
       "    <tr>\n",
       "      <th>25%</th>\n",
       "      <td>10.000000</td>\n",
       "    </tr>\n",
       "    <tr>\n",
       "      <th>50%</th>\n",
       "      <td>17.500000</td>\n",
       "    </tr>\n",
       "    <tr>\n",
       "      <th>75%</th>\n",
       "      <td>20.750000</td>\n",
       "    </tr>\n",
       "    <tr>\n",
       "      <th>max</th>\n",
       "      <td>24.000000</td>\n",
       "    </tr>\n",
       "  </tbody>\n",
       "</table>\n",
       "</div>"
      ],
      "text/plain": [
       "            data\n",
       "count  25.000000\n",
       "mean   15.552000\n",
       "std     6.928677\n",
       "min     0.000000\n",
       "25%    10.000000\n",
       "50%    17.500000\n",
       "75%    20.750000\n",
       "max    24.000000"
      ]
     },
     "execution_count": 153,
     "metadata": {},
     "output_type": "execute_result"
    }
   ],
   "source": [
    "df.describe()"
   ]
  },
  {
   "cell_type": "code",
   "execution_count": 154,
   "id": "9527f6d3",
   "metadata": {},
   "outputs": [
    {
     "data": {
      "text/plain": [
       "(-0.024, 4.8]     2\n",
       "(4.8, 9.6]        2\n",
       "(9.6, 14.4]       5\n",
       "(14.4, 19.2]      6\n",
       "(19.2, 24.0]     10\n",
       "Name: data, dtype: int64"
      ]
     },
     "execution_count": 154,
     "metadata": {},
     "output_type": "execute_result"
    }
   ],
   "source": [
    "hist = pd.cut(df['data'], bins = 5).value_counts().sort_values(ascending=True)\n",
    "hist"
   ]
  },
  {
   "cell_type": "code",
   "execution_count": 155,
   "id": "3be810b7",
   "metadata": {},
   "outputs": [
    {
     "data": {
      "text/plain": [
       "<AxesSubplot:>"
      ]
     },
     "execution_count": 155,
     "metadata": {},
     "output_type": "execute_result"
    },
    {
     "data": {
      "image/png": "[encoded data removed]",
      "text/plain": [
       "<Figure size 432x288 with 1 Axes>"
      ]
     },
     "metadata": {
      "needs_background": "light"
     },
     "output_type": "display_data"
    }
   ],
   "source": [
    "hist.plot(kind='bar')"
   ]
  },
  {
   "cell_type": "markdown",
   "id": "aaec79a1",
   "metadata": {},
   "source": [
    "* **Solucion empleando seaborn**"
   ]
  },
  {
   "cell_type": "code",
   "execution_count": 156,
   "id": "b4d778e5",
   "metadata": {},
   "outputs": [
    {
     "data": {
      "text/plain": [
       "<AxesSubplot:ylabel='Count'>"
      ]
     },
     "execution_count": 156,
     "metadata": {},
     "output_type": "execute_result"
    },
    {
     "data": {
      "image/png": "[encoded data removed]",
      "text/plain": [
       "<Figure size 432x288 with 1 Axes>"
      ]
     },
     "metadata": {
      "needs_background": "light"
     },
     "output_type": "display_data"
    }
   ],
   "source": [
    "sns.histplot(data,bins=5)"
   ]
  },
  {
   "cell_type": "markdown",
   "id": "f6143af8",
   "metadata": {},
   "source": [
    "### Grafica de cajas y bigotes\n",
    "\n",
    "La grafica de cajas y bigotes se usa para describir varias de las características más prominentes de un conjunto de datos. Las cuales incluyen:\n",
    "1. El centro\n",
    "2. La dispersión \n",
    "3. El grado y la naturaleza de cualquier alejamiento de la simetría\n",
    "4. La identificación de las observaciones \"atípicas\" inusualmente alejadas del cuerpo principal de los datos.\n",
    "\n",
    "En la grafica de caja muestra de manera grafica un resumen que describe los cinco estadisticos:\n",
    "\n",
    "||Quartile\t|Statistic|\tPercentile|\n",
    "|--|--|--|--|\n",
    "|1.| $Q_0$|minimum | $0^{th}$\t|\n",
    "|2.| $Q_1$|N/A | $25^{th}$\t|\n",
    "|3.| $Q_2$|median | $50^{th}$\t|\n",
    "|4.| $Q_3|N/A | $75^{th}$\t|\n",
    "|5.| $Q_4$|maximun | $100^{th}$\t|\n",
    "\n",
    "\n",
    "La caja tiene el limite inferior en el cuartil $Q_1$ y el superior en el cuartil $Q_3$. La mediana se encuentra en la linea que se encuentra dentro de la caja y los bigotes se extienden desde la caja hasta los extremos (minimo y maximo). Para mejorar la visualizacion, los puntos atipicos se muestran como los puntos que se encuentran por encima cuartil $Q_3 + 1.5\\times IRQ$ y abajo del cuartil $Q_1 - 1.5\\times IRQ$ tal y como se muestra en la siguiente figura:\n",
    "\n",
    "![diagrama_cajas](diagrama_cajas.png)"
   ]
  },
  {
   "cell_type": "markdown",
   "id": "c9eabed6",
   "metadata": {},
   "source": [
    "#### Ejemplo 1\n",
    "La ley Clean Water (agua limpia) y las modificaciones posteriores requieren que todas las aguas en los Estados Unidos alcancen los objetivos de reducción de la contaminación para garantizar que el agua sea \"apta para la pesca y para nadar\". El artículo “Spurious Correlation in the USEPA Rating Curve Method for Estimating Pollutant Loads” (J. of Environ. Engr., 2008: 610-618) ha investigado diferentes técnicas para estimar las cargas contaminantes en las cuencas hidrográficas; los autores \"discuten la necesidad imperiosa del uso racional de los métodos estadísticos\" para este fin. Entre los datos que se consideran está la siguiente muestra de cargas de NT (nitrógeno total) (kg N/día), a partir de una determinada ubicación en la Bahía de Chesapeake, que aparece aquí en orden creciente.\n",
    "\n",
    "```\n",
    "9.69 13.16 17.09 18.12 23.70 24.07 24.29 26.43\n",
    "30.75 31.54 35.07 36.99 40.32 42.51 45.64 48.22\n",
    "49.98 50.06 55.02 57.00 58.41 61.31 64.25 65.24\n",
    "66.14 67.68 81.40 90.80 92.17 92.42 100.82 101.94\n",
    "103.61 106.28 106.80 108.69 114.61 120.86 124.54 143.27\n",
    "143.75 149.64 167.79 182.50 192.55 193.53 271.57 292.61\n",
    "312.45 352.09 371.47 444.68 460.86 563.92 690.11 826.54\n",
    "1529.35\n",
    "```\n",
    "\n",
    "Obtenga, los 5 estadisticos resumen y dibuje el diagrama de cajas y bigotes para los datos anteriores."
   ]
  },
  {
   "cell_type": "markdown",
   "id": "bc8a140f",
   "metadata": {},
   "source": [
    "* **Solución empleando matplotlib**"
   ]
  },
  {
   "cell_type": "code",
   "execution_count": 157,
   "id": "178a22a5",
   "metadata": {},
   "outputs": [
    {
     "name": "stdout",
     "output_type": "stream",
     "text": [
      "Resumen profundidades\n",
      "- Minimo: 9.69\n",
      "- Q1: 45.64\n",
      "- Mediana: 92.17\n",
      "- Q3: 167.79\n",
      "- Maximo: 1529.35\n",
      "- IRQ: 122.14999999999999\n"
     ]
    }
   ],
   "source": [
    "data = np.array([9.69, 13.16, 17.09, 18.12, 23.70, 24.07, 24.29, 26.43,\n",
    "                 30.75, 31.54, 35.07, 36.99, 40.32, 42.51, 45.64, 48.22,\n",
    "                 49.98, 50.06, 55.02, 57.00, 58.41, 61.31, 64.25, 65.24,\n",
    "                 66.14, 67.68, 81.40, 90.80, 92.17, 92.42, 100.82, 101.94,\n",
    "                 103.61, 106.28, 106.80, 108.69, 114.61, 120.86, 124.54, 143.27,\n",
    "                 143.75, 149.64, 167.79, 182.50, 192.55, 193.53, 271.57, 292.61,\n",
    "                 312.45, 352.09, 371.47, 444.68, 460.86, 563.92, 690.11, 826.54,\n",
    "                 1529.35])\n",
    "min_data = np.quantile(data,q = 0.0) # np.percentile(data,q = 0)\n",
    "max_data = np.quantile(data,q = 1.0) # np.percentile(data,q = 100)\n",
    "Q1_data = np.quantile(data,q = 0.25) # np.percentile(data,q = 25)\n",
    "Q3_data = np.quantile(data,q = 0.75) # np.percentile(data,q = 75)\n",
    "median_data = np.quantile(data,q = 0.5) # np.median(data)\n",
    "rango_data = np.ptp(data)\n",
    "print(\"Resumen profundidades\")\n",
    "print(\"- Minimo: \", min_data, sep=\"\")\n",
    "print(\"- Q1: \", Q1_data , sep=\"\")\n",
    "print(\"- Mediana: \", median_data , sep=\"\")\n",
    "print(\"- Q3: \", Q3_data , sep=\"\")\n",
    "print(\"- Maximo: \", max_data, sep=\"\")\n",
    "print(\"- IRQ: \", Q3_data - Q1_data, sep=\"\")"
   ]
  },
  {
   "cell_type": "code",
   "execution_count": 158,
   "id": "d1ad4c4f",
   "metadata": {},
   "outputs": [
    {
     "data": {
      "image/png": "[encoded data removed]",
      "text/plain": [
       "<Figure size 432x288 with 1 Axes>"
      ]
     },
     "metadata": {
      "needs_background": "light"
     },
     "output_type": "display_data"
    }
   ],
   "source": [
    "fig1, ax1 = plt.subplots();\n",
    "ax1.set_title('Basic Plot');\n",
    "ax1.boxplot(data,vert=False);"
   ]
  },
  {
   "cell_type": "markdown",
   "id": "11541cad",
   "metadata": {},
   "source": [
    "* **Usando pandas**"
   ]
  },
  {
   "cell_type": "code",
   "execution_count": 159,
   "id": "1f1d7f29",
   "metadata": {},
   "outputs": [
    {
     "data": {
      "text/html": [
       "<div>\n",
       "<style scoped>\n",
       "    .dataframe tbody tr th:only-of-type {\n",
       "        vertical-align: middle;\n",
       "    }\n",
       "\n",
       "    .dataframe tbody tr th {\n",
       "        vertical-align: top;\n",
       "    }\n",
       "\n",
       "    .dataframe thead th {\n",
       "        text-align: right;\n",
       "    }\n",
       "</style>\n",
       "<table border=\"1\" class=\"dataframe\">\n",
       "  <thead>\n",
       "    <tr style=\"text-align: right;\">\n",
       "      <th></th>\n",
       "      <th>data</th>\n",
       "    </tr>\n",
       "  </thead>\n",
       "  <tbody>\n",
       "    <tr>\n",
       "      <th>0</th>\n",
       "      <td>9.69</td>\n",
       "    </tr>\n",
       "    <tr>\n",
       "      <th>1</th>\n",
       "      <td>13.16</td>\n",
       "    </tr>\n",
       "    <tr>\n",
       "      <th>2</th>\n",
       "      <td>17.09</td>\n",
       "    </tr>\n",
       "    <tr>\n",
       "      <th>3</th>\n",
       "      <td>18.12</td>\n",
       "    </tr>\n",
       "    <tr>\n",
       "      <th>4</th>\n",
       "      <td>23.70</td>\n",
       "    </tr>\n",
       "  </tbody>\n",
       "</table>\n",
       "</div>"
      ],
      "text/plain": [
       "    data\n",
       "0   9.69\n",
       "1  13.16\n",
       "2  17.09\n",
       "3  18.12\n",
       "4  23.70"
      ]
     },
     "execution_count": 159,
     "metadata": {},
     "output_type": "execute_result"
    }
   ],
   "source": [
    "df = pd.DataFrame({'data':[9.69, 13.16, 17.09, 18.12, 23.70, 24.07, 24.29, 26.43,\n",
    "                 30.75, 31.54, 35.07, 36.99, 40.32, 42.51, 45.64, 48.22,\n",
    "                 49.98, 50.06, 55.02, 57.00, 58.41, 61.31, 64.25, 65.24,\n",
    "                 66.14, 67.68, 81.40, 90.80, 92.17, 92.42, 100.82, 101.94,\n",
    "                 103.61, 106.28, 106.80, 108.69, 114.61, 120.86, 124.54, 143.27,\n",
    "                 143.75, 149.64, 167.79, 182.50, 192.55, 193.53, 271.57, 292.61,\n",
    "                 312.45, 352.09, 371.47, 444.68, 460.86, 563.92, 690.11, 826.54,\n",
    "                 1529.35]})\n",
    "df.head()"
   ]
  },
  {
   "cell_type": "code",
   "execution_count": 160,
   "id": "d8772f2c",
   "metadata": {},
   "outputs": [
    {
     "data": {
      "text/html": [
       "<div>\n",
       "<style scoped>\n",
       "    .dataframe tbody tr th:only-of-type {\n",
       "        vertical-align: middle;\n",
       "    }\n",
       "\n",
       "    .dataframe tbody tr th {\n",
       "        vertical-align: top;\n",
       "    }\n",
       "\n",
       "    .dataframe thead th {\n",
       "        text-align: right;\n",
       "    }\n",
       "</style>\n",
       "<table border=\"1\" class=\"dataframe\">\n",
       "  <thead>\n",
       "    <tr style=\"text-align: right;\">\n",
       "      <th></th>\n",
       "      <th>data</th>\n",
       "    </tr>\n",
       "  </thead>\n",
       "  <tbody>\n",
       "    <tr>\n",
       "      <th>count</th>\n",
       "      <td>57.000000</td>\n",
       "    </tr>\n",
       "    <tr>\n",
       "      <th>mean</th>\n",
       "      <td>170.110526</td>\n",
       "    </tr>\n",
       "    <tr>\n",
       "      <th>std</th>\n",
       "      <td>249.571252</td>\n",
       "    </tr>\n",
       "    <tr>\n",
       "      <th>min</th>\n",
       "      <td>9.690000</td>\n",
       "    </tr>\n",
       "    <tr>\n",
       "      <th>25%</th>\n",
       "      <td>45.640000</td>\n",
       "    </tr>\n",
       "    <tr>\n",
       "      <th>50%</th>\n",
       "      <td>92.170000</td>\n",
       "    </tr>\n",
       "    <tr>\n",
       "      <th>75%</th>\n",
       "      <td>167.790000</td>\n",
       "    </tr>\n",
       "    <tr>\n",
       "      <th>max</th>\n",
       "      <td>1529.350000</td>\n",
       "    </tr>\n",
       "  </tbody>\n",
       "</table>\n",
       "</div>"
      ],
      "text/plain": [
       "              data\n",
       "count    57.000000\n",
       "mean    170.110526\n",
       "std     249.571252\n",
       "min       9.690000\n",
       "25%      45.640000\n",
       "50%      92.170000\n",
       "75%     167.790000\n",
       "max    1529.350000"
      ]
     },
     "execution_count": 160,
     "metadata": {},
     "output_type": "execute_result"
    }
   ],
   "source": [
    "df.describe()"
   ]
  },
  {
   "cell_type": "code",
   "execution_count": 161,
   "id": "7bc94e96",
   "metadata": {},
   "outputs": [
    {
     "data": {
      "image/png": "[encoded data removed]",
      "text/plain": [
       "<Figure size 432x288 with 1 Axes>"
      ]
     },
     "metadata": {
      "needs_background": "light"
     },
     "output_type": "display_data"
    }
   ],
   "source": [
    "boxplot = df.boxplot(vert=False)"
   ]
  },
  {
   "cell_type": "markdown",
   "id": "f30b2e3f",
   "metadata": {},
   "source": [
    "* **Usando seaborn**"
   ]
  },
  {
   "cell_type": "code",
   "execution_count": 162,
   "id": "f73bd68f",
   "metadata": {},
   "outputs": [
    {
     "name": "stderr",
     "output_type": "stream",
     "text": [
      "C:\\Users\\Usuario\\anaconda3\\lib\\site-packages\\seaborn\\_decorators.py:36: FutureWarning: Pass the following variable as a keyword arg: x. From version 0.12, the only valid positional argument will be `data`, and passing other arguments without an explicit keyword will result in an error or misinterpretation.\n",
      "  warnings.warn(\n"
     ]
    },
    {
     "data": {
      "image/png": "[encoded data removed]",
      "text/plain": [
       "<Figure size 432x288 with 1 Axes>"
      ]
     },
     "metadata": {
      "needs_background": "light"
     },
     "output_type": "display_data"
    }
   ],
   "source": [
    "sns.boxplot(df['data']); # sns.boxplot(data);"
   ]
  },
  {
   "cell_type": "markdown",
   "id": "73b49dcb",
   "metadata": {},
   "source": [
    "## Datos categoricos"
   ]
  },
  {
   "cell_type": "markdown",
   "id": "d0228326",
   "metadata": {},
   "source": [
    "### Grafico de torta\n",
    "Estamos trabajando, ofrecemos disculpas por las molestias causadas..."
   ]
  },
  {
   "cell_type": "markdown",
   "id": "26810e62",
   "metadata": {},
   "source": [
    "#### Ejemplo 1\n",
    "\n",
    "Suponga que un profesor llamo a lista y contabilizo la cantidad de asistentes a cada clase resumiendolos la siguiente tabla:\n",
    "\n",
    "|Day|Number Students|\n",
    "|---|---|\n",
    "|Mon|30|\n",
    "|Tue|50|\n",
    "|Wed|12|\n",
    "|Thu|62|\n",
    "|Fri|80|\n",
    "\n",
    "Dibujar un grafico de torta a partir de la tabla anterior"
   ]
  },
  {
   "cell_type": "markdown",
   "id": "6ef042a1",
   "metadata": {},
   "source": [
    "* **Solución empleando matplotlib**"
   ]
  },
  {
   "cell_type": "code",
   "execution_count": 163,
   "id": "cf4840a9",
   "metadata": {},
   "outputs": [
    {
     "data": {
      "image/png": "[encoded data removed]",
      "text/plain": [
       "<Figure size 216x216 with 1 Axes>"
      ]
     },
     "metadata": {},
     "output_type": "display_data"
    }
   ],
   "source": [
    "# Datos\n",
    "days = ['Mon', 'Tue', 'Wed', 'Thu', 'Fri']\n",
    "ordered = [30, 50, 12, 62, 80]\n",
    "# Grafica\n",
    "fig = plt.figure(figsize=(3, 3))\n",
    "ax= fig.add_subplot(111) \n",
    "\n",
    "ax.pie(ordered, labels=days); \n",
    "\n",
    "plt.legend(ncol=3,  # Number of columns in the legend\n",
    "           loc='lower center',  # Location of the legend\n",
    "           bbox_to_anchor=[.5, -.3], # To set the location of the legend more precisely\n",
    "           );"
   ]
  },
  {
   "cell_type": "markdown",
   "id": "95c29f9b",
   "metadata": {},
   "source": [
    "* **Solución empleando pandas**"
   ]
  },
  {
   "cell_type": "code",
   "execution_count": 164,
   "id": "35cd4282",
   "metadata": {},
   "outputs": [
    {
     "data": {
      "image/png": "[encoded data removed]",
      "text/plain": [
       "<Figure size 360x360 with 1 Axes>"
      ]
     },
     "metadata": {},
     "output_type": "display_data"
    }
   ],
   "source": [
    "# Data\n",
    "df = pd.DataFrame({'days':['Mon', 'Tue', 'Wed', 'Thu', 'Fri'],\n",
    "                   'ordered':  [30, 50, 12, 62, 80]},\n",
    "                  index=['Mon', 'Tue', 'Wed', 'Thu', 'Fri'])\n",
    "# Grafica\n",
    "plot = df.plot.pie(y='ordered', figsize=(5, 5))"
   ]
  },
  {
   "cell_type": "markdown",
   "id": "85e900e8",
   "metadata": {},
   "source": [
    "* **Solución empleando seaborn**"
   ]
  },
  {
   "cell_type": "code",
   "execution_count": 165,
   "id": "474208e4",
   "metadata": {},
   "outputs": [
    {
     "data": {
      "image/png": "[encoded data removed]",
      "text/plain": [
       "<Figure size 432x288 with 1 Axes>"
      ]
     },
     "metadata": {},
     "output_type": "display_data"
    }
   ],
   "source": [
    "# Datos\n",
    "days = ['Mon', 'Tue', 'Wed', 'Thu', 'Fri']\n",
    "ordered = [30, 50, 12, 62, 80]\n",
    "\n",
    "#define Seaborn color palette to use\n",
    "palette_color = sns.color_palette('bright')[0:5]\n",
    "\n",
    "plt.pie(ordered, labels=days, colors=palette_color, autopct='%.0f%%')\n",
    "  \n",
    "# displaying chart\n",
    "plt.show()"
   ]
  },
  {
   "cell_type": "markdown",
   "id": "312b9060",
   "metadata": {},
   "source": [
    "### Grafico de barras\n",
    "Estamos trabajando, ofrecemos disculpas por las molestias causadas..."
   ]
  },
  {
   "cell_type": "markdown",
   "id": "d86cddcd",
   "metadata": {},
   "source": [
    "#### Ejemplo 1\n",
    "\n",
    "Suponga que un profesor llamo a lista y contabilizo la cantidad de asistentes a cada clase resumiendolos la siguiente tabla:\n",
    "\n",
    "|Day|Number Students|\n",
    "|---|---|\n",
    "|Mon|30|\n",
    "|Tue|50|\n",
    "|Wed|12|\n",
    "|Thu|62|\n",
    "|Fri|80|\n",
    "\n",
    "Dibujar un grafico de torta a partir de la tabla anterior"
   ]
  },
  {
   "cell_type": "markdown",
   "id": "6991b3c1",
   "metadata": {},
   "source": [
    "* **Solución empleando matplotlib**"
   ]
  },
  {
   "cell_type": "code",
   "execution_count": 166,
   "id": "e25200f4",
   "metadata": {},
   "outputs": [
    {
     "data": {
      "image/png": "[encoded data removed]",
      "text/plain": [
       "<Figure size 288x288 with 1 Axes>"
      ]
     },
     "metadata": {
      "needs_background": "light"
     },
     "output_type": "display_data"
    }
   ],
   "source": [
    "# Data\n",
    "df = pd.DataFrame({'days':['Mon', 'Tue', 'Wed', 'Thu', 'Fri'],\n",
    "                   'ordered':  [30, 50, 12, 62, 80]},\n",
    "                  index=['Mon', 'Tue', 'Wed', 'Thu', 'Fri'])\n",
    "\n",
    "fig = plt.figure(figsize=(4, 4))\n",
    "\n",
    "# Instead of seperating the number of rows, cols nad plot number, we can put them without seperator\n",
    "ax= fig.add_subplot(111) \n",
    "\n",
    "# A simple bar plot\n",
    "ax.bar(x=days, # Categorical variable\n",
    "       height=ordered # Numeric variable\n",
    "       );"
   ]
  },
  {
   "cell_type": "markdown",
   "id": "56194088",
   "metadata": {},
   "source": [
    "* **Solución empleando pandas**"
   ]
  },
  {
   "cell_type": "code",
   "execution_count": 167,
   "id": "b51a8299",
   "metadata": {},
   "outputs": [
    {
     "data": {
      "image/png": "[encoded data removed]",
      "text/plain": [
       "<Figure size 432x288 with 1 Axes>"
      ]
     },
     "metadata": {
      "needs_background": "light"
     },
     "output_type": "display_data"
    }
   ],
   "source": [
    "# Data\n",
    "df = pd.DataFrame({'days':['Mon', 'Tue', 'Wed', 'Thu', 'Fri'],\n",
    "                   'ordered':  [30, 50, 12, 62, 80]},\n",
    "                  index=['Mon', 'Tue', 'Wed', 'Thu', 'Fri'])\n",
    "\n",
    "df.plot.bar(x = 'days', y = 'ordered'); # df.plot.bar()"
   ]
  },
  {
   "cell_type": "markdown",
   "id": "0af50fa8",
   "metadata": {},
   "source": [
    "* **Solución empleando seaborn**"
   ]
  },
  {
   "cell_type": "code",
   "execution_count": 168,
   "id": "ded49d97",
   "metadata": {},
   "outputs": [
    {
     "data": {
      "image/png": "[encoded data removed]",
      "text/plain": [
       "<Figure size 432x288 with 1 Axes>"
      ]
     },
     "metadata": {
      "needs_background": "light"
     },
     "output_type": "display_data"
    }
   ],
   "source": [
    "# Data\n",
    "df = pd.DataFrame({'days':['Mon', 'Tue', 'Wed', 'Thu', 'Fri'],\n",
    "                   'ordered':  [30, 50, 12, 62, 80]},\n",
    "                  index=['Mon', 'Tue', 'Wed', 'Thu', 'Fri'])\n",
    "\n",
    "ax = sns.barplot(x=\"days\", y=\"ordered\", data=df) "
   ]
  },
  {
   "cell_type": "markdown",
   "id": "0e00b9ec",
   "metadata": {},
   "source": [
    "## Referencias\n",
    "1. https://github.com/PacktPublishing/Python-Data-Analysis-Third-Edition\n",
    "2. https://github.com/stefmolin/Hands-On-Data-Analysis-with-Pandas-2nd-edition\n",
    "3. https://github.com/PacktPublishing/Python-Data-Analysis-Third-Edition/blob/master/Chapter05/Ch5.ipynb\n",
    "4. https://github.com/ajaymache/data-analysis-using-python\n",
    "5. https://github.com/AmirMardan/ml_course"
   ]
  },
  {
   "cell_type": "code",
   "execution_count": null,
   "id": "8eefd507",
   "metadata": {},
   "outputs": [],
   "source": []
  }
 ],
 "metadata": {
  "kernelspec": {
   "display_name": "Python 3",
   "language": "python",
   "name": "python3"
  },
  "language_info": {
   "codemirror_mode": {
    "name": "ipython",
    "version": 3
   },
   "file_extension": ".py",
   "mimetype": "text/x-python",
   "name": "python",
   "nbconvert_exporter": "python",
   "pygments_lexer": "ipython3",
   "version": "3.8.8"
  }
 },
 "nbformat": 4,
 "nbformat_minor": 5
}
